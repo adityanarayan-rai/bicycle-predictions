{
 "cells": [
  {
   "cell_type": "code",
   "execution_count": 1,
   "id": "c9705508-b565-4171-a677-fe15a6cb599e",
   "metadata": {},
   "outputs": [],
   "source": [
    "import holidays\n",
    "from holidays import Germany\n",
    "import pandas as pd"
   ]
  },
  {
   "cell_type": "code",
   "execution_count": 2,
   "id": "da9f398f-4b59-4c06-82ad-2517aaa19c85",
   "metadata": {},
   "outputs": [],
   "source": [
    "# Let's set the date range\n",
    "start_date = \"2012-03-01\"\n",
    "end_date = \"2023-12-31\"\n",
    "\n",
    "# Now, let's generate a date range for all days in the specified period\n",
    "date_range = pd.date_range(start=start_date, end=end_date)\n",
    "\n",
    "# Let's initialize the Germany holidays object for Berlin with English localization\n",
    "berlin_holidays = Germany(years=range(2012, 2024), subdiv=\"BE\", language=\"en_US\")"
   ]
  },
  {
   "cell_type": "code",
   "execution_count": 3,
   "id": "1e202e55-8949-43fb-a7d7-34b66d50a024",
   "metadata": {},
   "outputs": [],
   "source": [
    "# And, create a dataframe with the date range\n",
    "holiday_df = pd.DataFrame({\"Date\": date_range})\n",
    "\n",
    "# Let's also check if each date is a holiday in Berlin and get the holiday name\n",
    "holiday_df[\"Holiday Name\"] = holiday_df[\"Date\"].apply(lambda x: berlin_holidays.get(x))\n",
    "holiday_df[\"public_holiday\"] = holiday_df[\"Holiday Name\"].apply(lambda x: 1 if x else 0)"
   ]
  },
  {
   "cell_type": "code",
   "execution_count": 4,
   "id": "b43dd0c4-7c0f-416a-9611-2fba38f90143",
   "metadata": {},
   "outputs": [
    {
     "name": "stdout",
     "output_type": "stream",
     "text": [
      "The dataset has been saved as 'berlin_public_holidays.csv'.\n"
     ]
    }
   ],
   "source": [
    "# Now, let's save the dataset to a CSV file\n",
    "output_file = \"berlin_public_holidays.csv\"\n",
    "holiday_df.to_csv(output_file, index=False)\n",
    "print(f\"The dataset has been saved as '{output_file}'.\")"
   ]
  },
  {
   "cell_type": "code",
   "execution_count": 3,
   "id": "b91f147a-c1c9-47d3-8478-15d0d9bab768",
   "metadata": {},
   "outputs": [],
   "source": [
    "file_path = 'berlin_public_holidays.csv'\n",
    "\n",
    "holiday = pd.read_csv(file_path)"
   ]
  },
  {
   "cell_type": "code",
   "execution_count": 4,
   "id": "d96f25d4-36e2-45fe-9b1f-dda664495cb3",
   "metadata": {},
   "outputs": [
    {
     "name": "stdout",
     "output_type": "stream",
     "text": [
      "<class 'pandas.core.frame.DataFrame'>\n",
      "RangeIndex: 4323 entries, 0 to 4322\n",
      "Data columns (total 3 columns):\n",
      " #   Column          Non-Null Count  Dtype \n",
      "---  ------          --------------  ----- \n",
      " 0   Date            4323 non-null   object\n",
      " 1   Holiday Name    114 non-null    object\n",
      " 2   public_holiday  4323 non-null   int64 \n",
      "dtypes: int64(1), object(2)\n",
      "memory usage: 101.4+ KB\n"
     ]
    }
   ],
   "source": [
    "holiday.info()"
   ]
  },
  {
   "cell_type": "code",
   "execution_count": null,
   "id": "e7aca455-cd20-475b-8bf6-76ac82ded6b5",
   "metadata": {},
   "outputs": [],
   "source": []
  }
 ],
 "metadata": {
  "kernelspec": {
   "display_name": "Python 3 (ipykernel)",
   "language": "python",
   "name": "python3"
  },
  "language_info": {
   "codemirror_mode": {
    "name": "ipython",
    "version": 3
   },
   "file_extension": ".py",
   "mimetype": "text/x-python",
   "name": "python",
   "nbconvert_exporter": "python",
   "pygments_lexer": "ipython3",
   "version": "3.12.4"
  }
 },
 "nbformat": 4,
 "nbformat_minor": 5
}
