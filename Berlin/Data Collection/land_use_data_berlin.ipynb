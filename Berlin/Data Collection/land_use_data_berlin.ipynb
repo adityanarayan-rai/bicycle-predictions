{
 "cells": [
  {
   "cell_type": "code",
   "execution_count": 1,
   "id": "5d842fb9-2f2b-4c93-9a1e-4c15faa666cf",
   "metadata": {},
   "outputs": [],
   "source": [
    "import pandas as pd\n",
    "import geopandas as gpd\n",
    "from shapely.geometry import Point\n",
    "from io import BytesIO\n",
    "import requests"
   ]
  },
  {
   "cell_type": "markdown",
   "id": "330f5b8a-6876-4049-be88-fc5851236315",
   "metadata": {},
   "source": [
    "## Planning Area Data & Spatial Join with the Counting Stations Data"
   ]
  },
  {
   "cell_type": "code",
   "execution_count": 2,
   "id": "3b92b09c-d765-4562-9ce9-1fc62c4310f3",
   "metadata": {},
   "outputs": [
    {
     "name": "stdout",
     "output_type": "stream",
     "text": [
      "     PLR_ID                  PLR_NAME BEZ       STAND   GROESSE_M2  \\\n",
      "0  11501341            Karlshorst Süd  11  01.01.2021  2294021.723   \n",
      "1   7601340  Tirschenreuther Ring Ost  07  01.01.2021   413969.326   \n",
      "2   2500831               Wismarplatz  02  01.01.2021   248988.291   \n",
      "3  12601134        Märkisches Zentrum  12  01.01.2021  1127855.841   \n",
      "4   7601547        Horstwalder Straße  07  01.01.2021   941433.954   \n",
      "\n",
      "                                            geometry  \n",
      "0  POLYGON ((400826.929 5814871.126, 400825.707 5...  \n",
      "1  POLYGON ((387795.701 5807587.153, 387789.731 5...  \n",
      "2  POLYGON ((396010.552 5819339.57, 396021.567 58...  \n",
      "3  POLYGON ((387367.428 5828619.763, 387315.862 5...  \n",
      "4  POLYGON ((391807.174 5805331.9, 391808.186 580...  \n"
     ]
    }
   ],
   "source": [
    "# Let's first load the planning area shapefile\n",
    "planning_area_gdf = gpd.read_file(\"lor_planungsraeume_2021/lor_planungsraeume_2021.shp\")\n",
    "\n",
    "# And convert the PLR_ID to integer\n",
    "planning_area_gdf[\"PLR_ID\"] = planning_area_gdf[\"PLR_ID\"].astype(int)\n",
    "\n",
    "# And, preview the planning areas\n",
    "print(planning_area_gdf.head())"
   ]
  },
  {
   "cell_type": "code",
   "execution_count": 3,
   "id": "5f320e73-78bd-4d92-b838-d1356e00e75c",
   "metadata": {},
   "outputs": [],
   "source": [
    "# Let's load and convert bicycle counting stations to geodataframe\n",
    "bike_df = pd.read_csv(\"daily_cycling_data_berlin_12032025.csv\")"
   ]
  },
  {
   "cell_type": "code",
   "execution_count": 4,
   "id": "b21418e2-7931-4e59-ba5d-64c740820fc0",
   "metadata": {},
   "outputs": [
    {
     "name": "stdout",
     "output_type": "stream",
     "text": [
      "            station_name   latitude  longitude  \\\n",
      "0         Alberichstraße  52.492535  13.558493   \n",
      "3106     Berliner Straße  52.566870  13.412328   \n",
      "5907    Breitenbachplatz  52.466988  13.308763   \n",
      "8708   Frankfurter Allee  52.513687  13.474328   \n",
      "11478    Invalidenstraße  52.527431  13.372561   \n",
      "\n",
      "                             geometry  index_right    PLR_ID  \\\n",
      "0      POINT (402132.169 5816798.371)          214  10300734   \n",
      "3106   POINT (392391.127 5825274.121)          307   3400826   \n",
      "5907   POINT (385111.922 5814324.812)          103   6400844   \n",
      "8708   POINT (396468.029 5819268.336)          513   2500729   \n",
      "11478  POINT (389597.028 5820947.827)          268   1200628   \n",
      "\n",
      "                 PLR_NAME  \n",
      "0            Biesdorf Süd  \n",
      "3106      Tiroler Viertel  \n",
      "5907               Dahlem  \n",
      "8708   Pettenkofer Straße  \n",
      "11478   Lüneburger Straße  \n"
     ]
    },
    {
     "data": {
      "text/html": [
       "<div>\n",
       "<style scoped>\n",
       "    .dataframe tbody tr th:only-of-type {\n",
       "        vertical-align: middle;\n",
       "    }\n",
       "\n",
       "    .dataframe tbody tr th {\n",
       "        vertical-align: top;\n",
       "    }\n",
       "\n",
       "    .dataframe thead th {\n",
       "        text-align: right;\n",
       "    }\n",
       "</style>\n",
       "<table border=\"1\" class=\"dataframe\">\n",
       "  <thead>\n",
       "    <tr style=\"text-align: right;\">\n",
       "      <th></th>\n",
       "      <th>station_name</th>\n",
       "      <th>latitude</th>\n",
       "      <th>longitude</th>\n",
       "      <th>geometry</th>\n",
       "    </tr>\n",
       "  </thead>\n",
       "  <tbody>\n",
       "    <tr>\n",
       "      <th>0</th>\n",
       "      <td>Alberichstraße</td>\n",
       "      <td>52.492535</td>\n",
       "      <td>13.558493</td>\n",
       "      <td>POINT (13.558493 52.492535)</td>\n",
       "    </tr>\n",
       "    <tr>\n",
       "      <th>3106</th>\n",
       "      <td>Berliner Straße</td>\n",
       "      <td>52.566870</td>\n",
       "      <td>13.412328</td>\n",
       "      <td>POINT (13.412328 52.5668695)</td>\n",
       "    </tr>\n",
       "    <tr>\n",
       "      <th>5907</th>\n",
       "      <td>Breitenbachplatz</td>\n",
       "      <td>52.466988</td>\n",
       "      <td>13.308763</td>\n",
       "      <td>POINT (13.3087625 52.466988)</td>\n",
       "    </tr>\n",
       "    <tr>\n",
       "      <th>8708</th>\n",
       "      <td>Frankfurter Allee</td>\n",
       "      <td>52.513687</td>\n",
       "      <td>13.474328</td>\n",
       "      <td>POINT (13.474328 52.513687)</td>\n",
       "    </tr>\n",
       "    <tr>\n",
       "      <th>11478</th>\n",
       "      <td>Invalidenstraße</td>\n",
       "      <td>52.527431</td>\n",
       "      <td>13.372561</td>\n",
       "      <td>POINT (13.3725605 52.5274315)</td>\n",
       "    </tr>\n",
       "  </tbody>\n",
       "</table>\n",
       "</div>"
      ],
      "text/plain": [
       "            station_name   latitude  longitude                       geometry\n",
       "0         Alberichstraße  52.492535  13.558493    POINT (13.558493 52.492535)\n",
       "3106     Berliner Straße  52.566870  13.412328   POINT (13.412328 52.5668695)\n",
       "5907    Breitenbachplatz  52.466988  13.308763   POINT (13.3087625 52.466988)\n",
       "8708   Frankfurter Allee  52.513687  13.474328    POINT (13.474328 52.513687)\n",
       "11478    Invalidenstraße  52.527431  13.372561  POINT (13.3725605 52.5274315)"
      ]
     },
     "execution_count": 4,
     "metadata": {},
     "output_type": "execute_result"
    }
   ],
   "source": [
    "# Let's take out the unique stations with their latitude and longitude\n",
    "bike_stations = bike_df[['station_name', 'latitude', 'longitude']].drop_duplicates()\n",
    "\n",
    "# Now, let's convert the bike stations to geodataframe\n",
    "bike_stations[\"geometry\"] = [Point(xy) for xy in zip(bike_stations[\"longitude\"], bike_stations[\"latitude\"])]\n",
    "bike_gdf = gpd.GeoDataFrame(bike_stations, geometry=\"geometry\", crs=\"EPSG:4326\")\n",
    "\n",
    "# Now, let's reproject to match the planning area CRS\n",
    "bike_gdf = bike_gdf.to_crs(planning_area_gdf.crs)\n",
    "\n",
    "# And now perform a spatial join to get planning area ID\n",
    "bike_gdf = gpd.sjoin(bike_gdf, planning_area_gdf[['PLR_ID', 'geometry', 'PLR_NAME']], how=\"left\", predicate=\"within\")\n",
    "\n",
    "# And, also check how the merge looks now\n",
    "print(bike_gdf.head())\n",
    "\n",
    "# And preview the bike stations data\n",
    "bike_stations.head()"
   ]
  },
  {
   "cell_type": "markdown",
   "id": "d7c81420-c3b1-480c-9de4-26990b83033b",
   "metadata": {},
   "source": [
    "## Download Land Use Data for Berlin"
   ]
  },
  {
   "cell_type": "code",
   "execution_count": 5,
   "id": "14cb509d-7145-4b3d-9a6a-c6c2af9ca7fc",
   "metadata": {},
   "outputs": [
    {
     "name": "stdout",
     "output_type": "stream",
     "text": [
      "Land use data successfully downloaded\n"
     ]
    }
   ],
   "source": [
    "# Let's define the wfs url\n",
    "WFS_URL = \"https://gdi.berlin.de/services/wfs/ua_flaechennutzung_2015\"\n",
    "\n",
    "# And, also the parameters\n",
    "PARAMS = {\n",
    "    \"SERVICE\": \"WFS\",\n",
    "    \"VERSION\": \"2.0.0\",\n",
    "    \"REQUEST\": \"GetFeature\",\n",
    "    \"TYPENAMES\": \"ua_flaechennutzung_2015:c_ua_realnutz_2015\",\n",
    "    \"SRSNAME\": \"EPSG:25833\",\n",
    "    \"OUTPUTFORMAT\": \"application/json\"\n",
    "}\n",
    "\n",
    "response = requests.get(WFS_URL, params=PARAMS)\n",
    "\n",
    "if response.status_code == 200:\n",
    "    land_use_gdf = gpd.read_file(BytesIO(response.content))\n",
    "    print(\"Land use data successfully downloaded\")\n",
    "else:\n",
    "    raise ValueError(f\"Failed to download land use data. HTTP {response.status_code}\")"
   ]
  },
  {
   "cell_type": "markdown",
   "id": "408836bc-bafb-4c1b-bae4-6af8a52d4065",
   "metadata": {},
   "source": [
    "## Merge Land Use with the Bike GDF dataset"
   ]
  },
  {
   "cell_type": "code",
   "execution_count": 6,
   "id": "f2d01153-1a7f-423d-badd-c487ceaaa8ef",
   "metadata": {},
   "outputs": [
    {
     "name": "stdout",
     "output_type": "stream",
     "text": [
      "['Wohnnutzung' 'Verkehrsfläche (ohne Straßen)'\n",
      " 'Gemeinbedarfs- und Sondernutzung' 'Ver- und Entsorgung'\n",
      " 'Gewerbe- und Industrienutzung, großflächiger Einzelhandel'\n",
      " 'Park / Grünfläche' 'Mischnutzung' 'Kerngebietsnutzung' 'Friedhof'\n",
      " 'Brachfläche, vegetationsfrei' 'Gewässer' 'Sportnutzung'\n",
      " 'Stadtplatz / Promenade' 'Brachfläche, wiesenartiger Vegetationsbestand'\n",
      " 'Brachfläche, Mischbestand aus Wiesen, Gebüschen und Bäumen' 'Baustelle'\n",
      " 'Kleingartenanlage' 'Baumschule / Gartenbau'\n",
      " 'Wochenendhaus- und kleingartenähnliche Nutzung' 'Wald' 'Grünland'\n",
      " 'Ackerland']\n"
     ]
    }
   ],
   "source": [
    "# Now, let's reproject to meters (EPSG:25833)\n",
    "land_use_gdf = land_use_gdf.to_crs(epsg=25833)\n",
    "planning_area_gdf = planning_area_gdf.to_crs(epsg=25833)\n",
    "\n",
    "# And, compute area of each land use polygon\n",
    "land_use_gdf[\"land_use_area_m2\"] = land_use_gdf.geometry.area\n",
    "\n",
    "# And, perform a spatial join: assign each land use polygon to a planning area\n",
    "land_use_joined = gpd.sjoin(\n",
    "    land_use_gdf, \n",
    "    planning_area_gdf[[\"PLR_ID\", \"geometry\"]], \n",
    "    how=\"inner\", \n",
    "    predicate=\"intersects\"\n",
    ")\n",
    "\n",
    "# And, check the unique land use types\n",
    "print(land_use_joined[\"nutzung\"].unique())"
   ]
  },
  {
   "cell_type": "code",
   "execution_count": 7,
   "id": "cd31c99e-39e5-4f6e-b0b6-37e66dd98205",
   "metadata": {},
   "outputs": [],
   "source": [
    "# Now, let's map 'nutzung' to standard categories\n",
    "nutzung_map = {\n",
    "    \"Wohnnutzung\": \"residential\",\n",
    "    \"Verkehrsfläche (ohne Straßen)\": \"traffic\",\n",
    "    \"Gewässer\": \"waterways\",\n",
    "    \"Gewerbe- und Industrienutzung, großflächiger Einzelhandel\": \"industry\",\n",
    "    \"Kleingartenanlage\": \"private_gardening\",\n",
    "    \"Wochenendhaus- und kleingartenähnliche Nutzung\": \"private_gardening\",\n",
    "    \"Park / Grünfläche\": \"parks\",\n",
    "    \"Friedhof\": \"cemeteries\",\n",
    "    \"Wald\": \"forests\",\n",
    "    \"Grünland\": \"farming\",\n",
    "    \"Ackerland\": \"farming\",\n",
    "    \"Baumschule / Gartenbau\": \"horticulture\",\n",
    "}\n",
    "\n",
    "# And, apply mapping and filter out unmapped\n",
    "land_use_joined[\"land_use_category\"] = land_use_joined[\"nutzung\"].map(nutzung_map)\n",
    "land_use_filtered = land_use_joined.dropna(subset=[\"land_use_category\"])"
   ]
  },
  {
   "cell_type": "code",
   "execution_count": 8,
   "id": "d80b2471-fc7f-4907-ae5c-5ad9533d1feb",
   "metadata": {},
   "outputs": [],
   "source": [
    "# Now, let's aggregate area per planning area and category\n",
    "land_use_summary = (\n",
    "    land_use_filtered\n",
    "    .groupby([\"PLR_ID\", \"land_use_category\"])[\"land_use_area_m2\"]\n",
    "    .sum()\n",
    "    .reset_index()\n",
    ")\n",
    "\n",
    "# And, pivot to wide format (columns = land use categories)\n",
    "land_use_pivot = (\n",
    "    land_use_summary\n",
    "    .pivot(index=\"PLR_ID\", columns=\"land_use_category\", values=\"land_use_area_m2\")\n",
    "    .fillna(0)\n",
    ")\n",
    "\n",
    "# ANd, join with total planning area sizes\n",
    "planning_areas_size = planning_area_gdf.set_index(\"PLR_ID\")[[\"GROESSE_M2\"]]\n",
    "land_use_pivot = land_use_pivot.join(planning_areas_size)"
   ]
  },
  {
   "cell_type": "code",
   "execution_count": 9,
   "id": "b1bb0a80-d170-428e-a80d-5bd71b754f9a",
   "metadata": {},
   "outputs": [],
   "source": [
    "# Let's convert land use area to percentages\n",
    "for col in land_use_pivot.columns:\n",
    "    if col != \"GROESSE_M2\":\n",
    "        land_use_pivot[col] = (land_use_pivot[col] / land_use_pivot[\"GROESSE_M2\"]) * 100\n"
   ]
  },
  {
   "cell_type": "code",
   "execution_count": 10,
   "id": "6e5f07e8-fe44-4240-9dc1-351b7201a3ab",
   "metadata": {},
   "outputs": [],
   "source": [
    "# And, merge land use data with bike stations\n",
    "bike_gdf = bike_gdf.merge(land_use_pivot, on=\"PLR_ID\", how=\"left\")"
   ]
  },
  {
   "cell_type": "code",
   "execution_count": 11,
   "id": "d5d93e62-7117-41ce-89a2-76d869e66b85",
   "metadata": {},
   "outputs": [],
   "source": [
    "# ANd, save the resulting dataset\n",
    "bike_gdf.to_file(\"bike_stations_with_land_use.geojson\", driver=\"GeoJSON\")\n",
    "bike_gdf.to_csv(\"bike_stations_with_land_use.csv\", index=False)"
   ]
  },
  {
   "cell_type": "code",
   "execution_count": 12,
   "id": "0ba463cf-75c5-49af-be72-e81263b290b2",
   "metadata": {},
   "outputs": [
    {
     "name": "stdout",
     "output_type": "stream",
     "text": [
      "        station_name   latitude  longitude                        geometry  \\\n",
      "0     Alberichstraße  52.492535  13.558493  POINT (402132.169 5816798.371)   \n",
      "1    Berliner Straße  52.566870  13.412328  POINT (392391.127 5825274.121)   \n",
      "2   Breitenbachplatz  52.466988  13.308763  POINT (385111.922 5814324.812)   \n",
      "3  Frankfurter Allee  52.513687  13.474328  POINT (396468.029 5819268.336)   \n",
      "4    Invalidenstraße  52.527431  13.372561  POINT (389597.028 5820947.827)   \n",
      "\n",
      "   index_right    PLR_ID            PLR_NAME  cemeteries   farming   forests  \\\n",
      "0          214  10300734        Biesdorf Süd    1.127642  1.032912  6.015082   \n",
      "1          307   3400826     Tiroler Viertel    0.000000  0.000000  0.000000   \n",
      "2          103   6400844              Dahlem    0.394201  3.340836  6.907066   \n",
      "3          513   2500729  Pettenkofer Straße    0.000000  0.000000  0.000000   \n",
      "4          268   1200628   Lüneburger Straße    0.000000  0.000000  0.000000   \n",
      "\n",
      "   horticulture   industry      parks  private_gardening  residential  \\\n",
      "0      0.000000   3.397912   9.666815           9.875672    55.430761   \n",
      "1      0.000000   7.349493   5.669064           7.872098    66.594511   \n",
      "2      6.693214   0.142187   9.307066           0.000000    47.679864   \n",
      "3      0.000000  16.745410  26.158814           0.000000    38.910141   \n",
      "4      0.000000   4.527508  30.330421           0.000000    26.593054   \n",
      "\n",
      "     traffic  waterways   GROESSE_M2  \n",
      "0   1.694666   1.366228  5205206.423  \n",
      "1  17.077013   0.000000   658965.370  \n",
      "2   1.101262   0.134955  3308713.464  \n",
      "3   2.271252   0.000000   322475.261  \n",
      "4  12.797755  20.906898   745610.394  \n"
     ]
    }
   ],
   "source": [
    "# Let's also preview merged dataset\n",
    "print(bike_gdf.head())"
   ]
  },
  {
   "cell_type": "code",
   "execution_count": 13,
   "id": "fd67163e-093a-4ba7-ada6-eaadb87aa6a9",
   "metadata": {},
   "outputs": [
    {
     "name": "stdout",
     "output_type": "stream",
     "text": [
      "Missing land use data per category:\n",
      " cemeteries           0\n",
      "farming              0\n",
      "forests              0\n",
      "horticulture         0\n",
      "industry             0\n",
      "parks                0\n",
      "private_gardening    0\n",
      "residential          0\n",
      "traffic              0\n",
      "waterways            0\n",
      "dtype: int64\n"
     ]
    }
   ],
   "source": [
    "# And, check for missing land use data\n",
    "missing_lu = bike_gdf[land_use_pivot.columns.drop(\"GROESSE_M2\")].isnull().sum()\n",
    "print(\"Missing land use data per category:\\n\", missing_lu)"
   ]
  },
  {
   "cell_type": "code",
   "execution_count": 14,
   "id": "d0dd4871-5621-4cb7-8da4-33053aa1c08d",
   "metadata": {},
   "outputs": [
    {
     "name": "stdout",
     "output_type": "stream",
     "text": [
      "\n",
      "Average land use percentage across all stations:\n",
      "cemeteries            1.99\n",
      "farming               0.22\n",
      "forests               1.55\n",
      "horticulture          0.33\n",
      "industry             14.23\n",
      "parks                14.27\n",
      "private_gardening     2.17\n",
      "residential          37.47\n",
      "traffic               7.78\n",
      "waterways             8.60\n",
      "dtype: float64\n"
     ]
    }
   ],
   "source": [
    "# And, also check the quick stats: average land use per station\n",
    "print(\"\\nAverage land use percentage across all stations:\")\n",
    "print(bike_gdf[land_use_pivot.columns.drop(\"GROESSE_M2\")].mean().round(2))"
   ]
  },
  {
   "cell_type": "markdown",
   "id": "de12f213-af9a-4947-abc7-2fcc1dc2681f",
   "metadata": {},
   "source": [
    "## Summary of this file:\n",
    "\n",
    "To extract and analyze land use data in relation to Berlin’s bicycle counting stations, a multi-step geospatial data processing workflow was followed using Python. The process began by loading a shapefile representing Berlin’s planning areas, which are neighborhood-level spatial units used for urban planning. Each planning area includes attributes like a unique ID, name, and total area size. Separately, data for bicycle counting stations—each with a unique name, latitude, and longitude—was loaded and converted into a GeoDataFrame. These stations were spatially joined with the planning areas to determine which station falls within which planning zone. This ensured that each bike station could be associated with the characteristics of the surrounding neighborhood.\n",
    "\n",
    "Next, land use data was retrieved via a Web Feature Service (WFS) request from Berlin’s open geodata portal. The dataset includes detailed polygons labeled with land use types such as residential, industrial, green space, traffic infrastructure, and more. The geometries were reprojected into a metric coordinate system (EPSG:25833) to accurately calculate the area of each land use polygon. A spatial join was then performed to associate each land use polygon with the planning area it intersects. The land use categories, originally in German, were mapped to ten standardized categories including residential, parks, industry, traffic, waterways, cemeteries, forests, farming, horticulture, and private gardening. For each planning area, the total area of land use polygons falling into these categories was aggregated. These absolute values were then normalized by dividing by the total size of the respective planning area to produce percentage values—indicating, for example, that 25% of a given planning area is covered by parks.\n",
    "\n",
    "The final output is a dataset in which each bicycle station is enriched with the surrounding land use composition of its planning area. This includes percentage values for each of the ten standardized land use categories, in addition to original station attributes like name, coordinates, and planning area ID."
   ]
  },
  {
   "cell_type": "code",
   "execution_count": null,
   "id": "24f02395-bf58-4d2c-995c-093209b165a8",
   "metadata": {},
   "outputs": [],
   "source": []
  }
 ],
 "metadata": {
  "kernelspec": {
   "display_name": "Python 3 (ipykernel)",
   "language": "python",
   "name": "python3"
  },
  "language_info": {
   "codemirror_mode": {
    "name": "ipython",
    "version": 3
   },
   "file_extension": ".py",
   "mimetype": "text/x-python",
   "name": "python",
   "nbconvert_exporter": "python",
   "pygments_lexer": "ipython3",
   "version": "3.12.4"
  }
 },
 "nbformat": 4,
 "nbformat_minor": 5
}
