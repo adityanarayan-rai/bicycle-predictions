{
 "cells": [
  {
   "cell_type": "code",
   "execution_count": 1,
   "id": "b417d286-f417-48c4-a86f-6e529cd04c9b",
   "metadata": {},
   "outputs": [],
   "source": [
    "import pandas as pd\n",
    "import matplotlib.pyplot as plt"
   ]
  },
  {
   "cell_type": "code",
   "execution_count": 2,
   "id": "75e2c41b-206c-48b9-a190-b58c7bee2b6c",
   "metadata": {},
   "outputs": [],
   "source": [
    "# Let's load the dataset\n",
    "data = pd.read_csv(\"daily_cycling_data_newyork_28032025.csv\")"
   ]
  },
  {
   "cell_type": "code",
   "execution_count": 3,
   "id": "79e58a94-2e02-43ef-ac63-d22c25105183",
   "metadata": {},
   "outputs": [
    {
     "name": "stdout",
     "output_type": "stream",
     "text": [
      "\n",
      "Dataset Info:\n",
      "<class 'pandas.core.frame.DataFrame'>\n",
      "RangeIndex: 37646 entries, 0 to 37645\n",
      "Data columns (total 5 columns):\n",
      " #   Column     Non-Null Count  Dtype  \n",
      "---  ------     --------------  -----  \n",
      " 0   name       37646 non-null  object \n",
      " 1   date       37646 non-null  object \n",
      " 2   latitude   37646 non-null  float64\n",
      " 3   longitude  37646 non-null  float64\n",
      " 4   counts     37646 non-null  int64  \n",
      "dtypes: float64(2), int64(1), object(2)\n",
      "memory usage: 1.4+ MB\n"
     ]
    }
   ],
   "source": [
    "# Let's check th basic information about the dataset\n",
    "print(\"\\nDataset Info:\")\n",
    "data.info()"
   ]
  },
  {
   "cell_type": "code",
   "execution_count": 4,
   "id": "6217a231-1215-4eef-8d09-945f2bd04f27",
   "metadata": {},
   "outputs": [
    {
     "name": "stdout",
     "output_type": "stream",
     "text": [
      "First 5 rows of the dataset:\n",
      "                   name        date  latitude  longitude  counts\n",
      "0  111th St at 50th Ave  2022-05-09  40.74563   -73.8525     120\n",
      "1  111th St at 50th Ave  2022-05-10  40.74563   -73.8525     165\n",
      "2  111th St at 50th Ave  2022-05-11  40.74563   -73.8525     197\n",
      "3  111th St at 50th Ave  2022-05-12  40.74563   -73.8525     206\n",
      "4  111th St at 50th Ave  2022-05-13  40.74563   -73.8525     178\n"
     ]
    }
   ],
   "source": [
    "print(\"First 5 rows of the dataset:\")\n",
    "print(data.head())"
   ]
  },
  {
   "cell_type": "code",
   "execution_count": 5,
   "id": "5245884c-d168-4042-a308-6a07e316c935",
   "metadata": {},
   "outputs": [
    {
     "name": "stdout",
     "output_type": "stream",
     "text": [
      "\n",
      "Statistical Summary:\n",
      "           latitude     longitude        counts\n",
      "count  37646.000000  37646.000000  37646.000000\n",
      "mean      40.721509    -73.972243   2123.184694\n",
      "std        0.048307      0.045473   2031.473255\n",
      "min       40.584100    -74.072075      0.000000\n",
      "25%       40.709274    -73.994950    369.000000\n",
      "50%       40.714573    -73.971382   1699.000000\n",
      "75%       40.751010    -73.951492   3095.000000\n",
      "max       40.857669    -73.852500  13346.000000\n"
     ]
    }
   ],
   "source": [
    "print(\"\\nStatistical Summary:\")\n",
    "print(data.describe())"
   ]
  },
  {
   "cell_type": "code",
   "execution_count": 6,
   "id": "17adbf33-88d6-475e-a8d3-eabf8467553b",
   "metadata": {},
   "outputs": [],
   "source": [
    "# Let's convert the date column to datetime format\n",
    "data['date'] = pd.to_datetime(data['date'])"
   ]
  },
  {
   "cell_type": "code",
   "execution_count": 8,
   "id": "a32538ee-ec14-4ded-81a3-e8b5b6989122",
   "metadata": {},
   "outputs": [
    {
     "name": "stdout",
     "output_type": "stream",
     "text": [
      "Station Data Summary:\n",
      "                                          name start_date   end_date  \\\n",
      "4                    Brooklyn Bridge Bike Path 2015-01-01 2025-01-20   \n",
      "11                   Manhattan Bridge Ped Path 2015-01-01 2025-01-20   \n",
      "17               Williamsburg Bridge Bike Path 2015-01-01 2025-01-20   \n",
      "6        Ed Koch Queensboro Bridge Shared Path 2015-01-01 2025-01-20   \n",
      "16                         Staten Island Ferry 2016-03-31 2025-01-20   \n",
      "14                          Prospect Park West 2016-11-07 2025-01-20   \n",
      "10  Kent Ave btw North 8th St and North 9th St 2016-11-22 2025-01-20   \n",
      "15                              Pulaski Bridge 2017-06-24 2025-01-20   \n",
      "5                     Columbus Ave at 86th St. 2019-12-05 2025-01-19   \n",
      "2                    Amsterdam Ave at 86th St. 2019-12-05 2025-01-20   \n",
      "1                          8th Ave at 50th St. 2019-12-05 2025-01-20   \n",
      "3       Brooklyn Bridge Bicycle Path (Roadway) 2021-09-14 2025-01-20   \n",
      "0                         111th St at 50th Ave 2022-05-09 2025-01-20   \n",
      "8                                 Fountain Ave 2022-08-23 2025-01-20   \n",
      "18                            Willis Ave Bikes 2022-12-01 2025-01-20   \n",
      "12                      Ocean Pkwy at Avenue J 2023-09-04 2025-01-20   \n",
      "13                                 Pelham Pkwy 2023-11-02 2025-01-19   \n",
      "9                            High Bridge Bikes 2023-12-27 2025-01-20   \n",
      "7                             Emmons Ave Bikes 2023-12-27 2024-12-29   \n",
      "\n",
      "    total_days  unique_dates  min_count  max_count   mean_count    std_count  \\\n",
      "4         3671          3671          1       8265  1250.542087  1265.483041   \n",
      "11        3670          3670         11       2693   161.237875    88.229639   \n",
      "17        3666          3666        162      13346  5203.855155  2477.709645   \n",
      "6         3662          3662         21       8830  4258.943747  1921.399124   \n",
      "16        3213          3213          0       1769   443.698101   213.046766   \n",
      "14        2992          2992          0       6537  2225.459225  1114.749505   \n",
      "10        2978          2978         26       7951  2799.899261  1423.978718   \n",
      "15        2761          2761         10       5423  2083.496559   993.999184   \n",
      "5         1871          1871          5       2400  1534.995724   338.610931   \n",
      "2         1870          1870          0       4941  2021.260428   528.827708   \n",
      "1         1724          1724          0       5736  2686.976798  1177.216850   \n",
      "3         1222          1222         70       8509  3224.245499  1633.414021   \n",
      "0          979           979         32        753   211.698672   112.866608   \n",
      "8          879           879          0        104    18.486917    16.939246   \n",
      "18         779           779        515       3364  2209.883184   526.525875   \n",
      "12         505           505        116       1648   768.528713   286.416682   \n",
      "13         444           444         21        993   163.815315    93.794247   \n",
      "9          391           391          1        493   229.056266   147.254174   \n",
      "7          369           369          9       1885   485.146341   426.366620   \n",
      "\n",
      "    date_range  missing_days  \n",
      "4         3673             2  \n",
      "11        3673             3  \n",
      "17        3673             7  \n",
      "6         3673            11  \n",
      "16        3218             5  \n",
      "14        2997             5  \n",
      "10        2982             4  \n",
      "15        2768             7  \n",
      "5         1873             2  \n",
      "2         1874             4  \n",
      "1         1874           150  \n",
      "3         1225             3  \n",
      "0          988             9  \n",
      "8          882             3  \n",
      "18         782             3  \n",
      "12         505             0  \n",
      "13         445             1  \n",
      "9          391             0  \n",
      "7          369             0  \n"
     ]
    }
   ],
   "source": [
    "# Let's group by station name to check the range and count of data per station\n",
    "station_summary = data.groupby('name').agg(\n",
    "    start_date=('date', 'min'),\n",
    "    end_date=('date', 'max'),\n",
    "    total_days=('date', 'count'),\n",
    "    unique_dates=('date', 'nunique'),\n",
    "    min_count=('counts', 'min'),\n",
    "    max_count=('counts', 'max'),\n",
    "    mean_count=('counts', 'mean'),\n",
    "    std_count=('counts', 'std')\n",
    ").reset_index()\n",
    "\n",
    "# And, calculate the total range in days\n",
    "station_summary['date_range'] = (station_summary['end_date'] - station_summary['start_date']).dt.days + 1\n",
    "station_summary['missing_days'] = station_summary['date_range'] - station_summary['unique_dates']\n",
    "\n",
    "# Let's sort by total days of data available per station\n",
    "station_summary = station_summary.sort_values(by='total_days', ascending=False)\n",
    "\n",
    "# And, check the results\n",
    "print(\"Station Data Summary:\")\n",
    "print(station_summary)"
   ]
  },
  {
   "cell_type": "code",
   "execution_count": 9,
   "id": "05a6a987-772b-4605-b0c6-e996e9d1bc1e",
   "metadata": {},
   "outputs": [
    {
     "name": "stdout",
     "output_type": "stream",
     "text": [
      "Year-wise unique dates per station:\n",
      "year                                         2015   2016   2017   2018   2019  \\\n",
      "name                                                                            \n",
      "111th St at 50th Ave                          0.0    0.0    0.0    0.0    0.0   \n",
      "8th Ave at 50th St.                           0.0    0.0    0.0    0.0   27.0   \n",
      "Amsterdam Ave at 86th St.                     0.0    0.0    0.0    0.0   27.0   \n",
      "Brooklyn Bridge Bicycle Path (Roadway)        0.0    0.0    0.0    0.0    0.0   \n",
      "Brooklyn Bridge Bike Path                   365.0  366.0  365.0  365.0  365.0   \n",
      "Columbus Ave at 86th St.                      0.0    0.0    0.0    0.0   27.0   \n",
      "Ed Koch Queensboro Bridge Shared Path       365.0  366.0  365.0  365.0  364.0   \n",
      "Emmons Ave Bikes                              0.0    0.0    0.0    0.0    0.0   \n",
      "Fountain Ave                                  0.0    0.0    0.0    0.0    0.0   \n",
      "High Bridge Bikes                             0.0    0.0    0.0    0.0    0.0   \n",
      "Kent Ave btw North 8th St and North 9th St    0.0   40.0  365.0  365.0  365.0   \n",
      "Manhattan Bridge Ped Path                   365.0  366.0  365.0  365.0  365.0   \n",
      "Ocean Pkwy at Avenue J                        0.0    0.0    0.0    0.0    0.0   \n",
      "Pelham Pkwy                                   0.0    0.0    0.0    0.0    0.0   \n",
      "Prospect Park West                            0.0   55.0  365.0  364.0  365.0   \n",
      "Pulaski Bridge                                0.0    0.0  191.0  365.0  365.0   \n",
      "Staten Island Ferry                           0.0  276.0  365.0  365.0  365.0   \n",
      "Williamsburg Bridge Bike Path               365.0  366.0  365.0  365.0  365.0   \n",
      "Willis Ave Bikes                              0.0    0.0    0.0    0.0    0.0   \n",
      "\n",
      "year                                         2020   2021   2022   2023   2024  \\\n",
      "name                                                                            \n",
      "111th St at 50th Ave                          0.0    0.0  237.0  359.0  363.0   \n",
      "8th Ave at 50th St.                         366.0  350.0  233.0  364.0  364.0   \n",
      "Amsterdam Ave at 86th St.                   366.0  365.0  365.0  364.0  363.0   \n",
      "Brooklyn Bridge Bicycle Path (Roadway)        0.0  109.0  365.0  362.0  366.0   \n",
      "Brooklyn Bridge Bike Path                   366.0  365.0  365.0  364.0  365.0   \n",
      "Columbus Ave at 86th St.                    366.0  365.0  365.0  364.0  365.0   \n",
      "Ed Koch Queensboro Bridge Shared Path       366.0  365.0  365.0  364.0  357.0   \n",
      "Emmons Ave Bikes                              0.0    0.0    0.0    5.0  364.0   \n",
      "Fountain Ave                                  0.0    0.0  131.0  363.0  365.0   \n",
      "High Bridge Bikes                             0.0    0.0    0.0    5.0  366.0   \n",
      "Kent Ave btw North 8th St and North 9th St  366.0  365.0  365.0  362.0  365.0   \n",
      "Manhattan Bridge Ped Path                   366.0  365.0  365.0  362.0  366.0   \n",
      "Ocean Pkwy at Avenue J                        0.0    0.0    0.0  119.0  366.0   \n",
      "Pelham Pkwy                                   0.0    0.0    0.0   60.0  365.0   \n",
      "Prospect Park West                          366.0  365.0  365.0  363.0  364.0   \n",
      "Pulaski Bridge                              366.0  365.0  365.0  359.0  365.0   \n",
      "Staten Island Ferry                         366.0  365.0  365.0  361.0  365.0   \n",
      "Williamsburg Bridge Bike Path               366.0  365.0  365.0  360.0  364.0   \n",
      "Willis Ave Bikes                              0.0    0.0   31.0  362.0  366.0   \n",
      "\n",
      "year                                        2025  \n",
      "name                                              \n",
      "111th St at 50th Ave                        20.0  \n",
      "8th Ave at 50th St.                         20.0  \n",
      "Amsterdam Ave at 86th St.                   20.0  \n",
      "Brooklyn Bridge Bicycle Path (Roadway)      20.0  \n",
      "Brooklyn Bridge Bike Path                   20.0  \n",
      "Columbus Ave at 86th St.                    19.0  \n",
      "Ed Koch Queensboro Bridge Shared Path       20.0  \n",
      "Emmons Ave Bikes                             0.0  \n",
      "Fountain Ave                                20.0  \n",
      "High Bridge Bikes                           20.0  \n",
      "Kent Ave btw North 8th St and North 9th St  20.0  \n",
      "Manhattan Bridge Ped Path                   20.0  \n",
      "Ocean Pkwy at Avenue J                      20.0  \n",
      "Pelham Pkwy                                 19.0  \n",
      "Prospect Park West                          20.0  \n",
      "Pulaski Bridge                              20.0  \n",
      "Staten Island Ferry                         20.0  \n",
      "Williamsburg Bridge Bike Path               20.0  \n",
      "Willis Ave Bikes                            20.0  \n"
     ]
    }
   ],
   "source": [
    "# Let's extract the year from the date column\n",
    "data['year'] = data['date'].dt.year\n",
    "\n",
    "# And, group by station name and year to count the number of unique dates per year for each station\n",
    "yearly_data_summary = data.groupby(['name', 'year']).agg(\n",
    "    unique_dates=('date', 'nunique')\n",
    ").reset_index()\n",
    "\n",
    "# And, pivot to get a clear view\n",
    "yearly_data_pivot = yearly_data_summary.pivot(index='name', columns='year', values='unique_dates').fillna(0)\n",
    "\n",
    "# Display the year-wise number of unique dates for each station\n",
    "print(\"Year-wise unique dates per station:\")\n",
    "print(yearly_data_pivot)"
   ]
  },
  {
   "cell_type": "code",
   "execution_count": 10,
   "id": "ae1a93e9-51b2-4b45-b6ca-6514aa9d8988",
   "metadata": {},
   "outputs": [],
   "source": [
    "# Save the result to a CSV file for further analysis\n",
    "yearly_data_pivot.to_csv('yearly_unique_dates_per_station.csv')"
   ]
  },
  {
   "cell_type": "code",
   "execution_count": 13,
   "id": "e1c01467-5a7c-4ff3-9200-e999b5ae7a4d",
   "metadata": {},
   "outputs": [],
   "source": [
    "# Based on the observations for the dataset, the following needs to be done\n",
    "# 1. Drop all data for 2025\n",
    "data = data[data['date'].dt.year < 2025]\n",
    "\n",
    "# 2. Drop 2019 data for specific stations\n",
    "stations_to_drop_2019 = ['8th Ave at 50th St.', 'Columbus Ave at 86th St.', 'Amsterdam Ave at 86th St.']\n",
    "data = data[~((data['name'].isin(stations_to_drop_2019)) & (data['date'].dt.year == 2019))]\n",
    "\n",
    "# 3. Drop 2021 data for Brooklyn Bridge Bicycle Path (Roadway)\n",
    "data = data[~((data['name'] == 'Brooklyn Bridge Bicycle Path (Roadway)') & (data['date'].dt.year == 2021))]\n",
    "\n",
    "# 4. Drop 2023 data for Emmons Ave Bikes\n",
    "data = data[~((data['name'] == 'Emmons Ave Bikes') & (data['date'].dt.year == 2023))]\n",
    "\n",
    "# 5. Drop 2022 data for Fountain Ave\n",
    "data = data[~((data['name'] == 'Fountain Ave') & (data['date'].dt.year == 2022))]\n",
    "\n",
    "# 6. Drop 2023 data for High Bridge Bikes\n",
    "data = data[~((data['name'] == 'High Bridge Bikes') & (data['date'].dt.year == 2023))]\n",
    "\n",
    "# 7. Drop 2016 data for Kent Ave btw North 8th St and North 9th St\n",
    "data = data[~((data['name'] == 'Kent Ave btw North 8th St and North 9th St') & (data['date'].dt.year == 2016))]\n",
    "\n",
    "# 8. Drop 2023 data for Ocean Pkwy at Avenue J and Pelham Pkwy\n",
    "stations_to_drop_2023 = ['Ocean Pkwy at Avenue J', 'Pelham Pkwy']\n",
    "data = data[~((data['name'].isin(stations_to_drop_2023)) & (data['date'].dt.year == 2023))]\n",
    "\n",
    "# 9. Drop 2016 data for Prospect Park West\n",
    "data = data[~((data['name'] == 'Prospect Park West') & (data['date'].dt.year == 2016))]\n",
    "\n",
    "# 10. Drop 2017 data for Pulaski Bridge\n",
    "data = data[~((data['name'] == 'Pulaski Bridge') & (data['date'].dt.year == 2017))]\n",
    "\n",
    "# 11. Drop 2022 data for Willis Ave Bikes\n",
    "data = data[~((data['name'] == 'Willis Ave Bikes') & (data['date'].dt.year == 2022))]\n",
    "\n",
    "# Reset the index after dropping rows\n",
    "data.reset_index(drop=True, inplace=True)"
   ]
  },
  {
   "cell_type": "code",
   "execution_count": 14,
   "id": "0b419e42-2dfe-4edd-8459-8f4db83e958f",
   "metadata": {},
   "outputs": [
    {
     "name": "stdout",
     "output_type": "stream",
     "text": [
      "Data cleaning complete. The cleaned dataset has been saved as 'daily_cycling_data_newyork_07042025.csv'.\n"
     ]
    }
   ],
   "source": [
    "# Save the cleaned dataset\n",
    "data.to_csv('daily_cycling_data_newyork_07042025.csv', index=False)\n",
    "\n",
    "print(\"Data cleaning complete. The cleaned dataset has been saved as 'daily_cycling_data_newyork_07042025.csv'.\")"
   ]
  },
  {
   "cell_type": "code",
   "execution_count": 16,
   "id": "b34d7364-1feb-44f9-a829-8f06312df2fb",
   "metadata": {},
   "outputs": [
    {
     "name": "stdout",
     "output_type": "stream",
     "text": [
      "date                                         2015   2016   2017   2018   2019  \\\n",
      "name                                                                            \n",
      "111th St at 50th Ave                          0.0    0.0    0.0    0.0    0.0   \n",
      "8th Ave at 50th St.                           0.0    0.0    0.0    0.0    0.0   \n",
      "Amsterdam Ave at 86th St.                     0.0    0.0    0.0    0.0    0.0   \n",
      "Brooklyn Bridge Bicycle Path (Roadway)        0.0    0.0    0.0    0.0    0.0   \n",
      "Brooklyn Bridge Bike Path                   365.0  366.0  365.0  365.0  365.0   \n",
      "Columbus Ave at 86th St.                      0.0    0.0    0.0    0.0    0.0   \n",
      "Ed Koch Queensboro Bridge Shared Path       365.0  366.0  365.0  365.0  364.0   \n",
      "Emmons Ave Bikes                              0.0    0.0    0.0    0.0    0.0   \n",
      "Fountain Ave                                  0.0    0.0    0.0    0.0    0.0   \n",
      "High Bridge Bikes                             0.0    0.0    0.0    0.0    0.0   \n",
      "Kent Ave btw North 8th St and North 9th St    0.0    0.0  365.0  365.0  365.0   \n",
      "Manhattan Bridge Ped Path                   365.0  366.0  365.0  365.0  365.0   \n",
      "Ocean Pkwy at Avenue J                        0.0    0.0    0.0    0.0    0.0   \n",
      "Pelham Pkwy                                   0.0    0.0    0.0    0.0    0.0   \n",
      "Prospect Park West                            0.0    0.0  365.0  364.0  365.0   \n",
      "Pulaski Bridge                                0.0    0.0    0.0  365.0  365.0   \n",
      "Staten Island Ferry                           0.0  276.0  365.0  365.0  365.0   \n",
      "Williamsburg Bridge Bike Path               365.0  366.0  365.0  365.0  365.0   \n",
      "Willis Ave Bikes                              0.0    0.0    0.0    0.0    0.0   \n",
      "\n",
      "date                                         2020   2021   2022   2023   2024  \n",
      "name                                                                           \n",
      "111th St at 50th Ave                          0.0    0.0  237.0  359.0  363.0  \n",
      "8th Ave at 50th St.                         366.0  350.0  233.0  364.0  364.0  \n",
      "Amsterdam Ave at 86th St.                   366.0  365.0  365.0  364.0  363.0  \n",
      "Brooklyn Bridge Bicycle Path (Roadway)        0.0    0.0  365.0  362.0  366.0  \n",
      "Brooklyn Bridge Bike Path                   366.0  365.0  365.0  364.0  365.0  \n",
      "Columbus Ave at 86th St.                    366.0  365.0  365.0  364.0  365.0  \n",
      "Ed Koch Queensboro Bridge Shared Path       366.0  365.0  365.0  364.0  357.0  \n",
      "Emmons Ave Bikes                              0.0    0.0    0.0    0.0  364.0  \n",
      "Fountain Ave                                  0.0    0.0    0.0  363.0  365.0  \n",
      "High Bridge Bikes                             0.0    0.0    0.0    0.0  366.0  \n",
      "Kent Ave btw North 8th St and North 9th St  366.0  365.0  365.0  362.0  365.0  \n",
      "Manhattan Bridge Ped Path                   366.0  365.0  365.0  362.0  366.0  \n",
      "Ocean Pkwy at Avenue J                        0.0    0.0    0.0    0.0  366.0  \n",
      "Pelham Pkwy                                   0.0    0.0    0.0    0.0  365.0  \n",
      "Prospect Park West                          366.0  365.0  365.0  363.0  364.0  \n",
      "Pulaski Bridge                              366.0  365.0  365.0  359.0  365.0  \n",
      "Staten Island Ferry                         366.0  365.0  365.0  361.0  365.0  \n",
      "Williamsburg Bridge Bike Path               366.0  365.0  365.0  360.0  364.0  \n",
      "Willis Ave Bikes                              0.0    0.0    0.0  362.0  366.0  \n"
     ]
    }
   ],
   "source": [
    "# Check the data consistency again after cleaning\n",
    "summary = data.groupby(['name', data['date'].dt.year]).agg(\n",
    "    unique_dates=('date', 'nunique')\n",
    ").reset_index()\n",
    "\n",
    "yearly_data_pivot = summary.pivot(index='name', columns='date', values='unique_dates').fillna(0)\n",
    "\n",
    "print(yearly_data_pivot)"
   ]
  },
  {
   "cell_type": "code",
   "execution_count": 17,
   "id": "7ad04e53-6687-4024-9f16-775949c58086",
   "metadata": {},
   "outputs": [
    {
     "name": "stdout",
     "output_type": "stream",
     "text": [
      "Number of stations with more than 1 year of data: 15\n",
      "Number of stations with exactly 1 year of data: 4\n",
      "\n",
      "Detailed breakdown:\n",
      "                                          name  date     data_duration\n",
      "0                         111th St at 50th Ave     3  More than 1 year\n",
      "1                          8th Ave at 50th St.     5  More than 1 year\n",
      "2                    Amsterdam Ave at 86th St.     5  More than 1 year\n",
      "3       Brooklyn Bridge Bicycle Path (Roadway)     3  More than 1 year\n",
      "4                    Brooklyn Bridge Bike Path    10  More than 1 year\n",
      "5                     Columbus Ave at 86th St.     5  More than 1 year\n",
      "6        Ed Koch Queensboro Bridge Shared Path    10  More than 1 year\n",
      "7                             Emmons Ave Bikes     1            1 year\n",
      "8                                 Fountain Ave     2  More than 1 year\n",
      "9                            High Bridge Bikes     1            1 year\n",
      "10  Kent Ave btw North 8th St and North 9th St     8  More than 1 year\n",
      "11                   Manhattan Bridge Ped Path    10  More than 1 year\n",
      "12                      Ocean Pkwy at Avenue J     1            1 year\n",
      "13                                 Pelham Pkwy     1            1 year\n",
      "14                          Prospect Park West     8  More than 1 year\n",
      "15                              Pulaski Bridge     7  More than 1 year\n",
      "16                         Staten Island Ferry     9  More than 1 year\n",
      "17               Williamsburg Bridge Bike Path    10  More than 1 year\n",
      "18                            Willis Ave Bikes     2  More than 1 year\n"
     ]
    }
   ],
   "source": [
    "# Group by station name and count the number of unique years\n",
    "station_year_count = data.groupby('name')['date'].agg(lambda x: x.dt.year.nunique()).reset_index()\n",
    "\n",
    "# Categorize stations based on the number of years of data\n",
    "station_year_count['data_duration'] = station_year_count['date'].apply(lambda x: 'More than 1 year' if x > 1 else '1 year')\n",
    "\n",
    "# Count the number of stations in each category\n",
    "station_counts = station_year_count['data_duration'].value_counts()\n",
    "\n",
    "print(\"Number of stations with more than 1 year of data:\", station_counts.get('More than 1 year', 0))\n",
    "print(\"Number of stations with exactly 1 year of data:\", station_counts.get('1 year', 0))\n",
    "\n",
    "# Display the detailed breakdown\n",
    "print(\"\\nDetailed breakdown:\")\n",
    "print(station_year_count)"
   ]
  },
  {
   "cell_type": "code",
   "execution_count": 18,
   "id": "62754ecb-6d3b-4c19-adb7-b4dc262d2b7b",
   "metadata": {},
   "outputs": [
    {
     "name": "stdout",
     "output_type": "stream",
     "text": [
      "<class 'pandas.core.frame.DataFrame'>\n",
      "RangeIndex: 36461 entries, 0 to 36460\n",
      "Data columns (total 6 columns):\n",
      " #   Column     Non-Null Count  Dtype         \n",
      "---  ------     --------------  -----         \n",
      " 0   name       36461 non-null  object        \n",
      " 1   date       36461 non-null  datetime64[ns]\n",
      " 2   latitude   36461 non-null  float64       \n",
      " 3   longitude  36461 non-null  float64       \n",
      " 4   counts     36461 non-null  int64         \n",
      " 5   year       36461 non-null  int32         \n",
      "dtypes: datetime64[ns](1), float64(2), int32(1), int64(1), object(1)\n",
      "memory usage: 1.5+ MB\n"
     ]
    }
   ],
   "source": [
    "data.info()"
   ]
  },
  {
   "cell_type": "code",
   "execution_count": null,
   "id": "a7bafddf-455f-4228-b853-81f4ec7ea659",
   "metadata": {},
   "outputs": [],
   "source": [
    "2"
   ]
  }
 ],
 "metadata": {
  "kernelspec": {
   "display_name": "Python 3 (ipykernel)",
   "language": "python",
   "name": "python3"
  },
  "language_info": {
   "codemirror_mode": {
    "name": "ipython",
    "version": 3
   },
   "file_extension": ".py",
   "mimetype": "text/x-python",
   "name": "python",
   "nbconvert_exporter": "python",
   "pygments_lexer": "ipython3",
   "version": "3.12.4"
  }
 },
 "nbformat": 4,
 "nbformat_minor": 5
}
