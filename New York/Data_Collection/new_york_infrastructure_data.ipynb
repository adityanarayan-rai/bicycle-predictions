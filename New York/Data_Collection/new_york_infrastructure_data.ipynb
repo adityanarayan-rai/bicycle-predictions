{
 "cells": [
  {
   "cell_type": "code",
   "execution_count": 1,
   "id": "e6db95a8-bd03-4d1e-b4e9-b6317713ae5e",
   "metadata": {},
   "outputs": [],
   "source": [
    "import os\n",
    "import osmium\n",
    "import pandas as pd\n",
    "import numpy as np\n",
    "from geopy.distance import geodesic\n",
    "from math import radians, cos, sin, asin, sqrt"
   ]
  },
  {
   "cell_type": "markdown",
   "id": "b6855577-41ea-4600-8a0d-4b68e61048bf",
   "metadata": {
    "jp-MarkdownHeadingCollapsed": true
   },
   "source": [
    "## Load the Daily New York Data"
   ]
  },
  {
   "cell_type": "code",
   "execution_count": 2,
   "id": "8b9cb174-dff4-47e4-b746-80f9013ac722",
   "metadata": {},
   "outputs": [],
   "source": [
    "# Let's load the cycling data\n",
    "df = pd.read_csv(\"daily_cycling_data_newyork_07042025.csv\")"
   ]
  },
  {
   "cell_type": "code",
   "execution_count": 3,
   "id": "f02d9b5f-7d34-4777-bd3d-bd5ae1942637",
   "metadata": {},
   "outputs": [
    {
     "name": "stdout",
     "output_type": "stream",
     "text": [
      "<class 'pandas.core.frame.DataFrame'>\n",
      "RangeIndex: 36461 entries, 0 to 36460\n",
      "Data columns (total 6 columns):\n",
      " #   Column     Non-Null Count  Dtype  \n",
      "---  ------     --------------  -----  \n",
      " 0   name       36461 non-null  object \n",
      " 1   date       36461 non-null  object \n",
      " 2   latitude   36461 non-null  float64\n",
      " 3   longitude  36461 non-null  float64\n",
      " 4   counts     36461 non-null  int64  \n",
      " 5   year       36461 non-null  int64  \n",
      "dtypes: float64(2), int64(2), object(2)\n",
      "memory usage: 1.7+ MB\n"
     ]
    },
    {
     "data": {
      "text/html": [
       "<div>\n",
       "<style scoped>\n",
       "    .dataframe tbody tr th:only-of-type {\n",
       "        vertical-align: middle;\n",
       "    }\n",
       "\n",
       "    .dataframe tbody tr th {\n",
       "        vertical-align: top;\n",
       "    }\n",
       "\n",
       "    .dataframe thead th {\n",
       "        text-align: right;\n",
       "    }\n",
       "</style>\n",
       "<table border=\"1\" class=\"dataframe\">\n",
       "  <thead>\n",
       "    <tr style=\"text-align: right;\">\n",
       "      <th></th>\n",
       "      <th>name</th>\n",
       "      <th>date</th>\n",
       "      <th>latitude</th>\n",
       "      <th>longitude</th>\n",
       "      <th>counts</th>\n",
       "      <th>year</th>\n",
       "    </tr>\n",
       "  </thead>\n",
       "  <tbody>\n",
       "    <tr>\n",
       "      <th>0</th>\n",
       "      <td>111th St at 50th Ave</td>\n",
       "      <td>2022-05-09</td>\n",
       "      <td>40.74563</td>\n",
       "      <td>-73.8525</td>\n",
       "      <td>120</td>\n",
       "      <td>2022</td>\n",
       "    </tr>\n",
       "    <tr>\n",
       "      <th>1</th>\n",
       "      <td>111th St at 50th Ave</td>\n",
       "      <td>2022-05-10</td>\n",
       "      <td>40.74563</td>\n",
       "      <td>-73.8525</td>\n",
       "      <td>165</td>\n",
       "      <td>2022</td>\n",
       "    </tr>\n",
       "    <tr>\n",
       "      <th>2</th>\n",
       "      <td>111th St at 50th Ave</td>\n",
       "      <td>2022-05-11</td>\n",
       "      <td>40.74563</td>\n",
       "      <td>-73.8525</td>\n",
       "      <td>197</td>\n",
       "      <td>2022</td>\n",
       "    </tr>\n",
       "    <tr>\n",
       "      <th>3</th>\n",
       "      <td>111th St at 50th Ave</td>\n",
       "      <td>2022-05-12</td>\n",
       "      <td>40.74563</td>\n",
       "      <td>-73.8525</td>\n",
       "      <td>206</td>\n",
       "      <td>2022</td>\n",
       "    </tr>\n",
       "    <tr>\n",
       "      <th>4</th>\n",
       "      <td>111th St at 50th Ave</td>\n",
       "      <td>2022-05-13</td>\n",
       "      <td>40.74563</td>\n",
       "      <td>-73.8525</td>\n",
       "      <td>178</td>\n",
       "      <td>2022</td>\n",
       "    </tr>\n",
       "  </tbody>\n",
       "</table>\n",
       "</div>"
      ],
      "text/plain": [
       "                   name        date  latitude  longitude  counts  year\n",
       "0  111th St at 50th Ave  2022-05-09  40.74563   -73.8525     120  2022\n",
       "1  111th St at 50th Ave  2022-05-10  40.74563   -73.8525     165  2022\n",
       "2  111th St at 50th Ave  2022-05-11  40.74563   -73.8525     197  2022\n",
       "3  111th St at 50th Ave  2022-05-12  40.74563   -73.8525     206  2022\n",
       "4  111th St at 50th Ave  2022-05-13  40.74563   -73.8525     178  2022"
      ]
     },
     "execution_count": 3,
     "metadata": {},
     "output_type": "execute_result"
    }
   ],
   "source": [
    "# Let's quickly check the dataset\n",
    "df.info()\n",
    "\n",
    "df.head()"
   ]
  },
  {
   "cell_type": "markdown",
   "id": "ef52bd4f-25e5-47cc-82be-8f4cd852ed86",
   "metadata": {
    "jp-MarkdownHeadingCollapsed": true
   },
   "source": [
    "## Unique Stations and Unique Year for the Bicycle Dataset"
   ]
  },
  {
   "cell_type": "code",
   "execution_count": 4,
   "id": "57fbc13b-c05a-4058-98c8-63af0e0b792e",
   "metadata": {},
   "outputs": [],
   "source": [
    "# And make sure that the timestamp is in the required format\n",
    "df['date'] = pd.to_datetime(df['date'])\n",
    "\n",
    "# Extract unique station-year combinations\n",
    "unique_station_year = df[['name', 'latitude', 'longitude', 'year']].drop_duplicates()\n",
    "\n",
    "# Save the sheet for future use\n",
    "unique_station_year.to_csv(\"unique_station_year_new_york.csv\", index=False)"
   ]
  },
  {
   "cell_type": "markdown",
   "id": "e4c00416-2659-470a-a851-e5bf894ea18d",
   "metadata": {
    "jp-MarkdownHeadingCollapsed": true
   },
   "source": [
    "## Max Speed Near the Counting Station"
   ]
  },
  {
   "cell_type": "code",
   "execution_count": 5,
   "id": "9490aaec-8e9e-4865-a735-f019f0aa1512",
   "metadata": {},
   "outputs": [],
   "source": [
    "# Let's define the folder containing OSM files\n",
    "osm_folder = \"NY_osm_datasets\"\n",
    "\n",
    "# And, load the station data\n",
    "station_df = pd.read_csv(\"unique_station_year_new_york.csv\")\n",
    "\n",
    "# And, ensure the year column is treated as an integer\n",
    "station_df['year'] = station_df['year'].astype(int)"
   ]
  },
  {
   "cell_type": "code",
   "execution_count": 6,
   "id": "a07a1466-0bac-4d7d-92eb-c48ed87bc90d",
   "metadata": {},
   "outputs": [],
   "source": [
    "# Map each year to its corresponding OSM file for New York datasets\n",
    "year_to_osm = {year: f\"new-york-{str(year)[-2:]}0101.osm.pbf\" for year in range(2015, 2025)}"
   ]
  },
  {
   "cell_type": "code",
   "execution_count": 7,
   "id": "bc241d4d-b2f6-45c1-a2b5-62cf483ccdca",
   "metadata": {},
   "outputs": [],
   "source": [
    "# Now, let's define the maxspeed search radius (in meters)\n",
    "MAXSPEED_RADIUS = 100  \n",
    "\n",
    "# And also define the haversine function to calculate distances between two lat/lon points\n",
    "def haversine(lat1, lon1, lat2, lon2):\n",
    "    \"\"\"Calculate the great circle distance in meters between two lat/lon points.\"\"\"\n",
    "    R = 6371000  # Radius of Earth in meters\n",
    "    lat1, lon1, lat2, lon2 = map(radians, [lat1, lon1, lat2, lon2])\n",
    "\n",
    "    dlat = lat2 - lat1\n",
    "    dlon = lon2 - lon1\n",
    "    a = sin(dlat/2)**2 + cos(lat1) * cos(lat2) * sin(dlon/2)**2\n",
    "    c = 2 * asin(sqrt(a))\n",
    "    return R * c"
   ]
  },
  {
   "cell_type": "code",
   "execution_count": 8,
   "id": "a6523e95-48cc-4c94-94ef-7309d1a69d99",
   "metadata": {},
   "outputs": [],
   "source": [
    "# Let's also define a class to extract roads with maxspeed values from OSM\n",
    "class MaxSpeedHandler(osmium.SimpleHandler):\n",
    "    def __init__(self):\n",
    "        super().__init__()\n",
    "        self.roads = []\n",
    "\n",
    "    def way(self, w):\n",
    "        if 'maxspeed' in w.tags and w.nodes:\n",
    "            try:\n",
    "                maxspeed = int(w.tags['maxspeed'].split()[0])  # Extract numeric value\n",
    "            except ValueError:\n",
    "                return  # Skip invalid values\n",
    "            \n",
    "            # Ensure node location is valid before accessing\n",
    "            if w.nodes[0].location.valid():\n",
    "                self.roads.append({\n",
    "                    'lat': w.nodes[0].location.lat,\n",
    "                    'lon': w.nodes[0].location.lon,\n",
    "                    'maxspeed': maxspeed\n",
    "                })\n",
    "\n",
    "def extract_maxspeed(osm_file):\n",
    "    \"\"\"Extract road segments with maxspeed information from a given OSM file.\"\"\"\n",
    "    handler = MaxSpeedHandler()\n",
    "\n",
    "    # Enable location lookup\n",
    "    handler.apply_file(osm_file, locations=True)  \n",
    "\n",
    "    return pd.DataFrame(handler.roads)"
   ]
  },
  {
   "cell_type": "code",
   "execution_count": 9,
   "id": "ddd49189-3300-4b5b-b702-ac5d7bca35cf",
   "metadata": {},
   "outputs": [
    {
     "name": "stdout",
     "output_type": "stream",
     "text": [
      "Processing maxspeed data for year 2022 using NY_osm_datasets\\new-york-220101.osm.pbf...\n",
      "Processing maxspeed data for year 2023 using NY_osm_datasets\\new-york-230101.osm.pbf...\n",
      "Processing maxspeed data for year 2024 using NY_osm_datasets\\new-york-240101.osm.pbf...\n",
      "Processing maxspeed data for year 2020 using NY_osm_datasets\\new-york-200101.osm.pbf...\n",
      "Processing maxspeed data for year 2021 using NY_osm_datasets\\new-york-210101.osm.pbf...\n",
      "Processing maxspeed data for year 2015 using NY_osm_datasets\\new-york-150101.osm.pbf...\n",
      "Processing maxspeed data for year 2016 using NY_osm_datasets\\new-york-160101.osm.pbf...\n",
      "Processing maxspeed data for year 2017 using NY_osm_datasets\\new-york-170101.osm.pbf...\n",
      "Processing maxspeed data for year 2018 using NY_osm_datasets\\new-york-180101.osm.pbf...\n",
      "Processing maxspeed data for year 2019 using NY_osm_datasets\\new-york-190101.osm.pbf...\n"
     ]
    }
   ],
   "source": [
    "# List to store maxspeed results\n",
    "maxspeed_results = []\n",
    "\n",
    "# Iterate over unique years in the station data\n",
    "for year in station_df['year'].unique():\n",
    "    osm_file_path = os.path.join(osm_folder, year_to_osm[year])\n",
    "    \n",
    "    if not os.path.exists(osm_file_path):\n",
    "        print(f\"Warning: OSM file for year {year} not found: {osm_file_path}\")\n",
    "        continue\n",
    "    \n",
    "    print(f\"Processing maxspeed data for year {year} using {osm_file_path}...\")\n",
    "\n",
    "    # Extract maxspeed information\n",
    "    maxspeed_df = extract_maxspeed(osm_file_path)\n",
    "\n",
    "    # Iterate over stations for this year\n",
    "    for index, station in station_df[station_df['year'] == year].iterrows():\n",
    "        lat_s, lon_s, station_name = station['latitude'], station['longitude'], station['name']\n",
    "\n",
    "        # Compute distances to all road segments with maxspeed\n",
    "        distances = maxspeed_df.apply(lambda road: haversine(lat_s, lon_s, road['lat'], road['lon']), axis=1)\n",
    "\n",
    "        # Get maxspeed values within 500m\n",
    "        valid_maxspeeds = maxspeed_df.loc[distances <= MAXSPEED_RADIUS, 'maxspeed']\n",
    "\n",
    "        # Get the maximum maxspeed found near the station (or NaN if none found)\n",
    "        max_maxspeed = valid_maxspeeds.max() if not valid_maxspeeds.empty else None\n",
    "\n",
    "        # Store results\n",
    "        maxspeed_results.append({\n",
    "            'name': station_name,\n",
    "            'year': year,\n",
    "            'maxspeed_near_station': max_maxspeed\n",
    "        })\n",
    "        "
   ]
  },
  {
   "cell_type": "code",
   "execution_count": 10,
   "id": "e93f9354-637b-4188-8a14-69433c388e9c",
   "metadata": {},
   "outputs": [
    {
     "name": "stdout",
     "output_type": "stream",
     "text": [
      "                   name   latitude  longitude  year  maxspeed_near_station\n",
      "0  111th St at 50th Ave  40.745630  -73.85250  2022                   25.0\n",
      "1  111th St at 50th Ave  40.745630  -73.85250  2023                   25.0\n",
      "2  111th St at 50th Ave  40.745630  -73.85250  2024                   25.0\n",
      "3   8th Ave at 50th St.  40.762348  -73.98612  2020                   25.0\n",
      "4   8th Ave at 50th St.  40.762348  -73.98612  2021                   25.0\n"
     ]
    }
   ],
   "source": [
    "# Convert results to DataFrame\n",
    "maxspeed_df = pd.DataFrame(maxspeed_results)\n",
    "\n",
    "# Merge maxspeed info into the original station dataset\n",
    "station_df = station_df.merge(maxspeed_df, on=['name', 'year'], how='left')\n",
    "\n",
    "# Save updated dataset\n",
    "station_df.to_csv(\"stations_with_maxspeed.csv\", index=False)\n",
    "\n",
    "# Display first few rows\n",
    "print(station_df.head())"
   ]
  },
  {
   "cell_type": "markdown",
   "id": "bd0dd302-1cd0-4223-a71d-63a335965e1c",
   "metadata": {
    "jp-MarkdownHeadingCollapsed": true
   },
   "source": [
    "### Taking care of the Missing Values"
   ]
  },
  {
   "cell_type": "code",
   "execution_count": 12,
   "id": "897a00c3-837a-4fdd-b0a4-05f4c746543b",
   "metadata": {},
   "outputs": [],
   "source": [
    "# Let's load the stations with maxspeed data\n",
    "stations_df = pd.read_csv('stations_with_maxspeed.csv')\n",
    "\n",
    "# Sort the dataframe by station 'name' and 'year' for consistency\n",
    "stations_df = stations_df.sort_values(by=['name', 'year'])"
   ]
  },
  {
   "cell_type": "code",
   "execution_count": 13,
   "id": "b1a8a640-41a0-49c1-abf3-f49ecde2cf78",
   "metadata": {},
   "outputs": [],
   "source": [
    "# Let's define the stations and their respective maxspeed values in km/h\n",
    "manual_maxspeeds = {\n",
    "    \"Ocean Pkwy at Avenue J\": 40,  \n",
    "    \"Prospect Park West\": 20,       \n",
    "    \"Staten Island Ferry\": 10,\n",
    "    \"High Bridge Bikes\": 25\n",
    "}\n",
    "\n",
    "# And, check if the station has a missing maxspeed value and fill it with the provided value\n",
    "for station, maxspeed in manual_maxspeeds.items():\n",
    "    stations_df.loc[stations_df['name'] == station, 'maxspeed_near_station'] = maxspeed\n",
    "\n",
    "# Now, let's apply median to the remaining missing values for other stations\n",
    "stations_df['maxspeed_near_station'] = stations_df.groupby('name')['maxspeed_near_station'].transform(\n",
    "    lambda group: group.fillna(group.median())  # Fill remaining missing values with median for each station\n",
    ")"
   ]
  },
  {
   "cell_type": "code",
   "execution_count": 14,
   "id": "10e54708-efd5-4b37-9e16-848d315fe53b",
   "metadata": {},
   "outputs": [],
   "source": [
    "# And save the final clean dataset\n",
    "stations_df.to_csv('stations_with_maxspeed_03042025.csv', index=False)"
   ]
  },
  {
   "cell_type": "markdown",
   "id": "108f6e4d-0f67-40d8-a2dc-f9e8f093e8ad",
   "metadata": {
    "jp-MarkdownHeadingCollapsed": true
   },
   "source": [
    "## Bicycle Lane Type Near the Counting Stations"
   ]
  },
  {
   "cell_type": "code",
   "execution_count": 15,
   "id": "d792db2d-0950-4d28-8ef9-bf05f15189d5",
   "metadata": {},
   "outputs": [],
   "source": [
    "# Let's define the folder containing OSM files\n",
    "osm_folder = \"NY_osm_datasets\"\n",
    "\n",
    "# And, load the station data\n",
    "station_df = pd.read_csv(\"unique_station_year_new_york.csv\")\n",
    "\n",
    "# And, ensure the year column is treated as an integer\n",
    "station_df['year'] = station_df['year'].astype(int)"
   ]
  },
  {
   "cell_type": "code",
   "execution_count": 16,
   "id": "4c80820e-0b6c-4710-8799-177bb5ce34c0",
   "metadata": {},
   "outputs": [],
   "source": [
    "# Map each year to its corresponding OSM file for New York datasets\n",
    "year_to_osm = {year: f\"new-york-{str(year)[-2:]}0101.osm.pbf\" for year in range(2015, 2025)}"
   ]
  },
  {
   "cell_type": "code",
   "execution_count": 17,
   "id": "d1673d8c-eb0c-4f4c-9eb3-0a7ebfa85c2a",
   "metadata": {},
   "outputs": [],
   "source": [
    "# Let's define the search radius (in meters)\n",
    "CYCLEWAY_RADIUS = 100 \n",
    "\n",
    "# Let's define the haversine function to calculate distances between two lat/lon points\n",
    "def haversine(lat1, lon1, lat2, lon2):\n",
    "    \"\"\"Calculate the great circle distance in meters between two lat/lon points.\"\"\"\n",
    "    R = 6371000  # Radius of Earth in meters\n",
    "    lat1, lon1, lat2, lon2 = map(radians, [lat1, lon1, lat2, lon2])\n",
    "\n",
    "    dlat = lat2 - lat1\n",
    "    dlon = lon2 - lon1\n",
    "    a = sin(dlat/2)**2 + cos(lat1) * cos(lat2) * sin(dlon/2)**2\n",
    "    c = 2 * asin(sqrt(a))\n",
    "    return R * c\n"
   ]
  },
  {
   "cell_type": "code",
   "execution_count": 18,
   "id": "dd300e33-cce6-43ae-96c6-0b5046d488b9",
   "metadata": {},
   "outputs": [],
   "source": [
    "# Let's also define a class to extract bicycle lane type with maxspeed values from OSM\n",
    "class CyclewayHandler(osmium.SimpleHandler):\n",
    "    def __init__(self):\n",
    "        super().__init__()\n",
    "        self.cycleways = []\n",
    "\n",
    "    def way(self, w):\n",
    "        # Extract cycleway-related ways\n",
    "        if any(tag in w.tags for tag in ['cycleway', 'cycleway:left', 'cycleway:right', 'cycleway:both']):\n",
    "            # Ensure node has valid location before accessing\n",
    "            if w.nodes[0].location.valid():\n",
    "                self.cycleways.append({\n",
    "                    'lat': w.nodes[0].location.lat,\n",
    "                    'lon': w.nodes[0].location.lon,\n",
    "                    'bicycle_lane_type': w.tags.get('cycleway', 'unknown')  # Default to 'unknown' if missing\n",
    "                })\n",
    "\n",
    "def extract_cycleways(osm_file):\n",
    "    \"\"\"Extract cycleway-related data from a given OSM file with location resolution.\"\"\"\n",
    "    handler = CyclewayHandler()\n",
    "    \n",
    "    # Enable location lookup to resolve node positions\n",
    "    handler.apply_file(osm_file, locations=True)\n",
    "\n",
    "    return pd.DataFrame(handler.cycleways)\n"
   ]
  },
  {
   "cell_type": "code",
   "execution_count": 19,
   "id": "cca8ece2-fbb9-4e4a-8c44-83a45dad7313",
   "metadata": {},
   "outputs": [
    {
     "name": "stdout",
     "output_type": "stream",
     "text": [
      "Processing bicycle lane data for year 2022 using NY_osm_datasets\\new-york-220101.osm.pbf...\n",
      "Processing bicycle lane data for year 2023 using NY_osm_datasets\\new-york-230101.osm.pbf...\n",
      "Processing bicycle lane data for year 2024 using NY_osm_datasets\\new-york-240101.osm.pbf...\n",
      "Processing bicycle lane data for year 2020 using NY_osm_datasets\\new-york-200101.osm.pbf...\n",
      "Processing bicycle lane data for year 2021 using NY_osm_datasets\\new-york-210101.osm.pbf...\n",
      "Processing bicycle lane data for year 2015 using NY_osm_datasets\\new-york-150101.osm.pbf...\n",
      "Processing bicycle lane data for year 2016 using NY_osm_datasets\\new-york-160101.osm.pbf...\n",
      "Processing bicycle lane data for year 2017 using NY_osm_datasets\\new-york-170101.osm.pbf...\n",
      "Processing bicycle lane data for year 2018 using NY_osm_datasets\\new-york-180101.osm.pbf...\n",
      "Processing bicycle lane data for year 2019 using NY_osm_datasets\\new-york-190101.osm.pbf...\n"
     ]
    }
   ],
   "source": [
    "# List to store cycleway results\n",
    "cycleway_results = []\n",
    "\n",
    "# Iterate over unique years in the station data\n",
    "for year in station_df['year'].unique():\n",
    "    osm_file_path = os.path.join(osm_folder, year_to_osm[year])\n",
    "    \n",
    "    if not os.path.exists(osm_file_path):\n",
    "        print(f\"Warning: OSM file for year {year} not found: {osm_file_path}\")\n",
    "        continue\n",
    "    \n",
    "    print(f\"Processing bicycle lane data for year {year} using {osm_file_path}...\")\n",
    "\n",
    "    # Extract cycleway information\n",
    "    cycleway_df = extract_cycleways(osm_file_path)\n",
    "\n",
    "    # Iterate over stations for this year\n",
    "    for index, station in station_df[station_df['year'] == year].iterrows():\n",
    "        lat_s, lon_s, station_name = station['latitude'], station['longitude'], station['name']\n",
    "\n",
    "        # Compute distances to all cycleways\n",
    "        distances = cycleway_df.apply(lambda way: haversine(lat_s, lon_s, way['lat'], way['lon']), axis=1)\n",
    "\n",
    "        # Get cycleway types within 500m\n",
    "        valid_cycleways = cycleway_df.loc[distances <= CYCLEWAY_RADIUS, 'bicycle_lane_type']\n",
    "\n",
    "        # Select the most common bicycle lane type near the station\n",
    "        most_common_lane = valid_cycleways.mode()[0] if not valid_cycleways.empty else \"none\"\n",
    "\n",
    "        # Store results\n",
    "        cycleway_results.append({\n",
    "            'name': station_name,\n",
    "            'year': year,\n",
    "            'bicycle_lane_type': most_common_lane\n",
    "        })\n"
   ]
  },
  {
   "cell_type": "code",
   "execution_count": 20,
   "id": "783dcc16-84e9-4956-a391-a47f6778cd33",
   "metadata": {},
   "outputs": [
    {
     "name": "stdout",
     "output_type": "stream",
     "text": [
      "                   name   latitude  longitude  year bicycle_lane_type\n",
      "0  111th St at 50th Ave  40.745630  -73.85250  2022           unknown\n",
      "1  111th St at 50th Ave  40.745630  -73.85250  2023           unknown\n",
      "2  111th St at 50th Ave  40.745630  -73.85250  2024           unknown\n",
      "3   8th Ave at 50th St.  40.762348  -73.98612  2020              none\n",
      "4   8th Ave at 50th St.  40.762348  -73.98612  2021              none\n"
     ]
    }
   ],
   "source": [
    "# Convert results to DataFrame\n",
    "cycleway_df = pd.DataFrame(cycleway_results)\n",
    "\n",
    "# Merge bicycle lane info into the original station dataset\n",
    "station_df = station_df.merge(cycleway_df, on=['name', 'year'], how='left')\n",
    "\n",
    "# Save updated dataset\n",
    "station_df.to_csv(\"stations_with_bicycle_lane_type.csv\", index=False)\n",
    "\n",
    "# Display first few rows\n",
    "print(station_df.head())"
   ]
  },
  {
   "cell_type": "markdown",
   "id": "e72b6329-f873-4e80-801a-52c5d7cc7aa7",
   "metadata": {
    "jp-MarkdownHeadingCollapsed": true
   },
   "source": [
    "## Number of Shops within a radius of 0.5, 1, 2 & 5km"
   ]
  },
  {
   "cell_type": "code",
   "execution_count": 2,
   "id": "43355cc7-1392-497c-9f8b-14f5ff3b22bc",
   "metadata": {},
   "outputs": [],
   "source": [
    "# Let's define the folder containing OSM files\n",
    "osm_folder = \"NY_osm_datasets\"\n",
    "\n",
    "# And, load the station data\n",
    "station_df = pd.read_csv(\"unique_station_year_new_york.csv\")\n",
    "\n",
    "# And, ensure the year column is treated as an integer\n",
    "station_df['year'] = station_df['year'].astype(int)"
   ]
  },
  {
   "cell_type": "code",
   "execution_count": 3,
   "id": "def571a5-041e-4e7a-a0af-5bedc1b74255",
   "metadata": {},
   "outputs": [],
   "source": [
    "# Map each year to its corresponding OSM file for New York datasets\n",
    "year_to_osm = {year: f\"new-york-{str(year)[-2:]}0101.osm.pbf\" for year in range(2015, 2025)}"
   ]
  },
  {
   "cell_type": "code",
   "execution_count": 4,
   "id": "3c8e58d4-7bdf-456e-9ce2-d2a2145e7484",
   "metadata": {},
   "outputs": [],
   "source": [
    "# Let's define the haversine function to calculate distances between two lat/lon points\n",
    "def haversine(lat1, lon1, lat2, lon2):\n",
    "    \"\"\"Calculate the great circle distance in meters between two lat/lon points.\"\"\"\n",
    "    R = 6371000  # Radius of Earth in meters\n",
    "    lat1, lon1, lat2, lon2 = map(radians, [lat1, lon1, lat2, lon2])\n",
    "\n",
    "    dlat = lat2 - lat1\n",
    "    dlon = lon2 - lon1\n",
    "    a = sin(dlat/2)**2 + cos(lat1) * cos(lat2) * sin(dlon/2)**2\n",
    "    c = 2 * asin(sqrt(a))\n",
    "    return R * c\n"
   ]
  },
  {
   "cell_type": "code",
   "execution_count": 5,
   "id": "848a3eeb-18fd-4fc0-bf69-785c4f3b1900",
   "metadata": {},
   "outputs": [],
   "source": [
    "# Let's also define a class to extract number of shops from OSM\n",
    "class ShopHandler(osmium.SimpleHandler):\n",
    "    def __init__(self):\n",
    "        super().__init__()\n",
    "        self.shops = []\n",
    "\n",
    "    def node(self, n):\n",
    "        if 'shop' in n.tags:\n",
    "            self.shops.append({'lat': n.location.lat, 'lon': n.location.lon})\n",
    "\n",
    "def extract_shops(osm_file):\n",
    "    \"\"\"Extract shop locations from a given OSM file.\"\"\"\n",
    "    handler = ShopHandler()\n",
    "    handler.apply_file(osm_file)\n",
    "    return pd.DataFrame(handler.shops)\n"
   ]
  },
  {
   "cell_type": "code",
   "execution_count": 6,
   "id": "6782d58d-1f84-4575-9011-e2f3f034e1f9",
   "metadata": {},
   "outputs": [
    {
     "name": "stdout",
     "output_type": "stream",
     "text": [
      "Processing year 2022 using NY_osm_datasets\\new-york-220101.osm.pbf...\n",
      "Processing year 2023 using NY_osm_datasets\\new-york-230101.osm.pbf...\n",
      "Processing year 2024 using NY_osm_datasets\\new-york-240101.osm.pbf...\n",
      "Processing year 2020 using NY_osm_datasets\\new-york-200101.osm.pbf...\n",
      "Processing year 2021 using NY_osm_datasets\\new-york-210101.osm.pbf...\n",
      "Processing year 2015 using NY_osm_datasets\\new-york-150101.osm.pbf...\n",
      "Processing year 2016 using NY_osm_datasets\\new-york-160101.osm.pbf...\n",
      "Processing year 2017 using NY_osm_datasets\\new-york-170101.osm.pbf...\n",
      "Processing year 2018 using NY_osm_datasets\\new-york-180101.osm.pbf...\n",
      "Processing year 2019 using NY_osm_datasets\\new-york-190101.osm.pbf...\n"
     ]
    }
   ],
   "source": [
    "# Define the search radii (in meters)\n",
    "radii = [500, 1000, 2000, 5000]\n",
    "\n",
    "# Create an empty list to store results\n",
    "results = []\n",
    "\n",
    "# Iterate over unique years in the station data\n",
    "for year in station_df['year'].unique():\n",
    "    osm_file_path = os.path.join(osm_folder, year_to_osm[year])\n",
    "    \n",
    "    if not os.path.exists(osm_file_path):\n",
    "        print(f\"Warning: OSM file for year {year} not found: {osm_file_path}\")\n",
    "        continue\n",
    "    \n",
    "    print(f\"Processing year {year} using {osm_file_path}...\")\n",
    "    \n",
    "    # Extract shop locations for the given year\n",
    "    shop_df = extract_shops(osm_file_path)\n",
    "    \n",
    "    # Iterate over stations for the given year\n",
    "    for index, station in station_df[station_df['year'] == year].iterrows():\n",
    "        lat_s, lon_s, station_name = station['latitude'], station['longitude'], station['name']\n",
    "        \n",
    "        # Compute distances to all shops\n",
    "        distances = shop_df.apply(lambda shop: haversine(lat_s, lon_s, shop['lat'], shop['lon']), axis=1)\n",
    "        \n",
    "        # Count shops within each radius\n",
    "        shop_counts = {f'shops_within_{r//1000}km': (distances <= r).sum() for r in radii}\n",
    "        \n",
    "        # Store results\n",
    "        results.append({\n",
    "            'name': station_name,\n",
    "            'year': year,\n",
    "            **shop_counts\n",
    "        })\n"
   ]
  },
  {
   "cell_type": "code",
   "execution_count": 7,
   "id": "993e08b8-7359-42ca-8bb8-04ecfd814b09",
   "metadata": {},
   "outputs": [
    {
     "name": "stdout",
     "output_type": "stream",
     "text": [
      "                                     name  year  shops_within_0km  \\\n",
      "0                    111th St at 50th Ave  2022                 8   \n",
      "1                     8th Ave at 50th St.  2022                86   \n",
      "2               Amsterdam Ave at 86th St.  2022               100   \n",
      "3  Brooklyn Bridge Bicycle Path (Roadway)  2022                66   \n",
      "4               Brooklyn Bridge Bike Path  2022                40   \n",
      "\n",
      "   shops_within_1km  shops_within_2km  shops_within_5km  \n",
      "0                16               175              1130  \n",
      "1               403              1187              3994  \n",
      "2               191               477              2541  \n",
      "3               485              1157              4475  \n",
      "4               348              1135              4706  \n"
     ]
    }
   ],
   "source": [
    "# Convert results to DataFrame\n",
    "result_df = pd.DataFrame(results)\n",
    "\n",
    "# Merge bicycle lane info into the original station dataset\n",
    "station_df = station_df.merge(result_df, on=['name', 'year'], how='left')\n",
    "\n",
    "# Save updated dataset\n",
    "station_df.to_csv(\"stations_with_shops.csv\", index=False)\n",
    "\n",
    "# Display the first few rows\n",
    "print(result_df.head())"
   ]
  },
  {
   "cell_type": "markdown",
   "id": "c26b3d92-283e-43cf-999b-e75451d43d14",
   "metadata": {
    "jp-MarkdownHeadingCollapsed": true
   },
   "source": [
    "## Number of Hotels within a radius of 0.5, 1, 2 & 5km"
   ]
  },
  {
   "cell_type": "code",
   "execution_count": 8,
   "id": "a5c33c07-afd0-4f0a-84a8-e51b2b0e3ccc",
   "metadata": {},
   "outputs": [],
   "source": [
    "# Let's define the folder containing OSM files\n",
    "osm_folder = \"NY_osm_datasets\"\n",
    "\n",
    "# And, load the station data\n",
    "station_df = pd.read_csv(\"unique_station_year_new_york.csv\")\n",
    "\n",
    "# And, ensure the year column is treated as an integer\n",
    "station_df['year'] = station_df['year'].astype(int)"
   ]
  },
  {
   "cell_type": "code",
   "execution_count": 9,
   "id": "a4ac1eb8-0c50-4590-9710-18ecff765f87",
   "metadata": {},
   "outputs": [],
   "source": [
    "# Map each year to its corresponding OSM file for New York datasets\n",
    "year_to_osm = {year: f\"new-york-{str(year)[-2:]}0101.osm.pbf\" for year in range(2015, 2025)}"
   ]
  },
  {
   "cell_type": "code",
   "execution_count": 10,
   "id": "ebc750fa-414c-447f-99f6-69da169ecb52",
   "metadata": {},
   "outputs": [],
   "source": [
    "# Let's define the search radii in meters\n",
    "radii = [500, 1000, 2000, 5000]  # 0.5km, 1km, 2km, 5km\n",
    "\n",
    "# And, let's define the haversine function to calculate distances\n",
    "def haversine(lat1, lon1, lat2, lon2):\n",
    "    \"\"\"Calculate the great circle distance in meters between two lat/lon points.\"\"\"\n",
    "    R = 6371000  # Radius of Earth in meters\n",
    "    lat1, lon1, lat2, lon2 = map(radians, [lat1, lon1, lat2, lon2])\n",
    "\n",
    "    dlat = lat2 - lat1\n",
    "    dlon = lon2 - lon1\n",
    "    a = sin(dlat/2)**2 + cos(lat1) * cos(lat2) * sin(dlon/2)**2\n",
    "    c = 2 * asin(sqrt(a))\n",
    "    return R * c\n"
   ]
  },
  {
   "cell_type": "code",
   "execution_count": 11,
   "id": "acd22282-505e-4482-83c7-84a976affe3b",
   "metadata": {},
   "outputs": [],
   "source": [
    "# Now, let's define a class to extract hotel locations from OSM\n",
    "class HotelHandler(osmium.SimpleHandler):\n",
    "    def __init__(self):\n",
    "        super().__init__()\n",
    "        self.hotels = []\n",
    "\n",
    "    def node(self, n):\n",
    "        if 'tourism' in n.tags and n.tags['tourism'] == 'hotel':\n",
    "            self.hotels.append({\n",
    "                'lat': n.location.lat,\n",
    "                'lon': n.location.lon\n",
    "            })\n",
    "\n",
    "def extract_hotels(osm_file):\n",
    "    \"\"\"Extract hotel locations from a given OSM file.\"\"\"\n",
    "    handler = HotelHandler()\n",
    "    \n",
    "    # Enable location lookup\n",
    "    handler.apply_file(osm_file, locations=True)\n",
    "\n",
    "    return pd.DataFrame(handler.hotels)"
   ]
  },
  {
   "cell_type": "code",
   "execution_count": 12,
   "id": "cb5309a6-d6a2-4eed-af37-51372bc8234f",
   "metadata": {},
   "outputs": [
    {
     "name": "stdout",
     "output_type": "stream",
     "text": [
      "Processing hotel data for year 2022 using NY_osm_datasets\\new-york-220101.osm.pbf...\n",
      "Processing hotel data for year 2023 using NY_osm_datasets\\new-york-230101.osm.pbf...\n",
      "Processing hotel data for year 2024 using NY_osm_datasets\\new-york-240101.osm.pbf...\n",
      "Processing hotel data for year 2020 using NY_osm_datasets\\new-york-200101.osm.pbf...\n",
      "Processing hotel data for year 2021 using NY_osm_datasets\\new-york-210101.osm.pbf...\n",
      "Processing hotel data for year 2015 using NY_osm_datasets\\new-york-150101.osm.pbf...\n",
      "Processing hotel data for year 2016 using NY_osm_datasets\\new-york-160101.osm.pbf...\n",
      "Processing hotel data for year 2017 using NY_osm_datasets\\new-york-170101.osm.pbf...\n",
      "Processing hotel data for year 2018 using NY_osm_datasets\\new-york-180101.osm.pbf...\n",
      "Processing hotel data for year 2019 using NY_osm_datasets\\new-york-190101.osm.pbf...\n"
     ]
    }
   ],
   "source": [
    "# List to store hotel count results\n",
    "hotel_results = []\n",
    "\n",
    "# Iterate over unique years\n",
    "for year in station_df['year'].unique():\n",
    "    osm_file_path = os.path.join(osm_folder, year_to_osm[year])\n",
    "    \n",
    "    if not os.path.exists(osm_file_path):\n",
    "        print(f\"Warning: OSM file for year {year} not found: {osm_file_path}\")\n",
    "        continue\n",
    "    \n",
    "    print(f\"Processing hotel data for year {year} using {osm_file_path}...\")\n",
    "\n",
    "    # Extract hotel locations\n",
    "    hotel_df = extract_hotels(osm_file_path)\n",
    "\n",
    "    # Iterate over stations for this year\n",
    "    for index, station in station_df[station_df['year'] == year].iterrows():\n",
    "        lat_s, lon_s, station_name = station['latitude'], station['longitude'], station['name']\n",
    "\n",
    "        # Compute distances to all hotels\n",
    "        distances = hotel_df.apply(lambda hotel: haversine(lat_s, lon_s, hotel['lat'], hotel['lon']), axis=1)\n",
    "\n",
    "        # Count hotels within each radius\n",
    "        hotel_counts = {f'hotels_within_{r//1000}km': (distances <= r).sum() for r in radii}\n",
    "\n",
    "        # Store results\n",
    "        hotel_results.append({\n",
    "            'name': station_name,\n",
    "            'year': year,\n",
    "            **hotel_counts\n",
    "        })\n"
   ]
  },
  {
   "cell_type": "code",
   "execution_count": 13,
   "id": "578ec595-c34c-48c8-9bd6-71d53bb258d7",
   "metadata": {},
   "outputs": [
    {
     "name": "stdout",
     "output_type": "stream",
     "text": [
      "                   name   latitude  longitude  year  hotels_within_0km  \\\n",
      "0  111th St at 50th Ave  40.745630  -73.85250  2022                  0   \n",
      "1  111th St at 50th Ave  40.745630  -73.85250  2023                  0   \n",
      "2  111th St at 50th Ave  40.745630  -73.85250  2024                  0   \n",
      "3   8th Ave at 50th St.  40.762348  -73.98612  2020                 16   \n",
      "4   8th Ave at 50th St.  40.762348  -73.98612  2021                 17   \n",
      "\n",
      "   hotels_within_1km  hotels_within_2km  hotels_within_5km  \n",
      "0                  2                  4                 15  \n",
      "1                  2                  4                 17  \n",
      "2                  2                  4                 17  \n",
      "3                 35                 77                147  \n",
      "4                 34                 74                146  \n"
     ]
    }
   ],
   "source": [
    "# Convert results to DataFrame\n",
    "hotel_df = pd.DataFrame(hotel_results)\n",
    "\n",
    "# Merge hotel count info into the original station dataset\n",
    "station_df = station_df.merge(hotel_df, on=['name', 'year'], how='left')\n",
    "\n",
    "# Save updated dataset\n",
    "station_df.to_csv(\"stations_with_hotels.csv\", index=False)\n",
    "\n",
    "# Display first few rows\n",
    "print(station_df.head())"
   ]
  },
  {
   "cell_type": "markdown",
   "id": "b6cba53b-a151-4e18-9345-170fe94b7b16",
   "metadata": {
    "jp-MarkdownHeadingCollapsed": true
   },
   "source": [
    "## Number of Education within a radius of 0.5, 1, 2 & 5km"
   ]
  },
  {
   "cell_type": "code",
   "execution_count": 2,
   "id": "09ebdab3-cfd4-473a-86b9-ed6a2b4f1181",
   "metadata": {},
   "outputs": [],
   "source": [
    "# Let's define the folder containing OSM files\n",
    "osm_folder = \"NY_osm_datasets\"\n",
    "\n",
    "# And, load the station data\n",
    "station_df = pd.read_csv(\"unique_station_year_new_york.csv\")\n",
    "\n",
    "# And, ensure the year column is treated as an integer\n",
    "station_df['year'] = station_df['year'].astype(int)"
   ]
  },
  {
   "cell_type": "code",
   "execution_count": 3,
   "id": "d3f4d55c-6840-4978-a9f2-5027eff3a48e",
   "metadata": {},
   "outputs": [],
   "source": [
    "# Map each year to its corresponding OSM file for New York datasets\n",
    "year_to_osm = {year: f\"new-york-{str(year)[-2:]}0101.osm.pbf\" for year in range(2015, 2025)}"
   ]
  },
  {
   "cell_type": "code",
   "execution_count": 4,
   "id": "e2633e6d-fa7b-4815-9921-1312ecfa5544",
   "metadata": {},
   "outputs": [],
   "source": [
    "# Let's define the search radii in meters\n",
    "radii = [500, 1000, 2000, 5000]  # 0.5km, 1km, 2km, 5km\n",
    "\n",
    "# And, the haversine function to calculate distances\n",
    "def haversine(lat1, lon1, lat2, lon2):\n",
    "    \"\"\"Calculate the great circle distance in meters between two lat/lon points.\"\"\"\n",
    "    R = 6371000  # Radius of Earth in meters\n",
    "    lat1, lon1, lat2, lon2 = map(radians, [lat1, lon1, lat2, lon2])\n",
    "\n",
    "    dlat = lat2 - lat1\n",
    "    dlon = lon2 - lon1\n",
    "    a = sin(dlat/2)**2 + cos(lat1) * cos(lat2) * sin(dlon/2)**2\n",
    "    c = 2 * asin(sqrt(a))\n",
    "    return R * c\n"
   ]
  },
  {
   "cell_type": "code",
   "execution_count": 5,
   "id": "74c9ac1a-520a-4b02-8583-3e745771edcb",
   "metadata": {},
   "outputs": [],
   "source": [
    "# And, also define a class to extract educational institutions from OSM\n",
    "class EducationHandler(osmium.SimpleHandler):\n",
    "    def __init__(self):\n",
    "        super().__init__()\n",
    "        self.education_centers = []\n",
    "\n",
    "    def node(self, n):\n",
    "        if 'amenity' in n.tags and n.tags['amenity'] in [\n",
    "            'kindergarten', 'school', 'driving_school', 'college', 'university', 'music_school',\n",
    "            'childcare', 'research_institute', 'language_school', 'dancing_school', 'sailing_school',\n",
    "            'sport_school', 'boat_school', 'first_aid_school', 'art_school'\n",
    "        ]:\n",
    "            self.education_centers.append({\n",
    "                'lat': n.location.lat,\n",
    "                'lon': n.location.lon,\n",
    "                'type': n.tags['amenity']  # Store the type of educational institute\n",
    "            })\n",
    "\n",
    "def extract_educational_institutes(osm_file):\n",
    "    \"\"\"Extract educational institution locations from a given OSM file.\"\"\"\n",
    "    handler = EducationHandler()\n",
    "    \n",
    "    # Enable location lookup\n",
    "    handler.apply_file(osm_file, locations=True)\n",
    "\n",
    "    return pd.DataFrame(handler.education_centers)\n"
   ]
  },
  {
   "cell_type": "code",
   "execution_count": 6,
   "id": "acc38712-78ab-4f1d-bb88-69b65ed95e6d",
   "metadata": {},
   "outputs": [
    {
     "name": "stdout",
     "output_type": "stream",
     "text": [
      "Processing educational institute data for year 2022 using NY_osm_datasets\\new-york-220101.osm.pbf...\n",
      "Processing educational institute data for year 2023 using NY_osm_datasets\\new-york-230101.osm.pbf...\n",
      "Processing educational institute data for year 2024 using NY_osm_datasets\\new-york-240101.osm.pbf...\n",
      "Processing educational institute data for year 2020 using NY_osm_datasets\\new-york-200101.osm.pbf...\n",
      "Processing educational institute data for year 2021 using NY_osm_datasets\\new-york-210101.osm.pbf...\n",
      "Processing educational institute data for year 2015 using NY_osm_datasets\\new-york-150101.osm.pbf...\n",
      "Processing educational institute data for year 2016 using NY_osm_datasets\\new-york-160101.osm.pbf...\n",
      "Processing educational institute data for year 2017 using NY_osm_datasets\\new-york-170101.osm.pbf...\n",
      "Processing educational institute data for year 2018 using NY_osm_datasets\\new-york-180101.osm.pbf...\n",
      "Processing educational institute data for year 2019 using NY_osm_datasets\\new-york-190101.osm.pbf...\n"
     ]
    }
   ],
   "source": [
    "# List to store educational institute count results\n",
    "education_results = []\n",
    "\n",
    "# Iterate over unique years\n",
    "for year in station_df['year'].unique():\n",
    "    osm_file_path = os.path.join(osm_folder, year_to_osm[year])\n",
    "    \n",
    "    if not os.path.exists(osm_file_path):\n",
    "        print(f\"Warning: OSM file for year {year} not found: {osm_file_path}\")\n",
    "        continue\n",
    "    \n",
    "    print(f\"Processing educational institute data for year {year} using {osm_file_path}...\")\n",
    "\n",
    "    # Extract educational institution locations\n",
    "    education_df = extract_educational_institutes(osm_file_path)\n",
    "\n",
    "    # Iterate over stations for this year\n",
    "    for index, station in station_df[station_df['year'] == year].iterrows():\n",
    "        lat_s, lon_s, station_name = station['latitude'], station['longitude'], station['name']\n",
    "\n",
    "        # Compute distances to all educational institutions\n",
    "        distances = education_df.apply(lambda edu: haversine(lat_s, lon_s, edu['lat'], edu['lon']), axis=1)\n",
    "\n",
    "        # Count institutions within each radius\n",
    "        education_counts = {f'education_within_{r//1000}km': (distances <= r).sum() for r in radii}\n",
    "\n",
    "        # Store results\n",
    "        education_results.append({\n",
    "            'name': station_name,\n",
    "            'year': year,\n",
    "            **education_counts\n",
    "        })\n"
   ]
  },
  {
   "cell_type": "code",
   "execution_count": 7,
   "id": "ddf3928f-6951-4472-8ef8-9bced5f7900e",
   "metadata": {},
   "outputs": [
    {
     "name": "stdout",
     "output_type": "stream",
     "text": [
      "                   name   latitude  longitude  year  education_within_0km  \\\n",
      "0  111th St at 50th Ave  40.745630  -73.85250  2022                     0   \n",
      "1  111th St at 50th Ave  40.745630  -73.85250  2023                     2   \n",
      "2  111th St at 50th Ave  40.745630  -73.85250  2024                     2   \n",
      "3   8th Ave at 50th St.  40.762348  -73.98612  2020                     2   \n",
      "4   8th Ave at 50th St.  40.762348  -73.98612  2021                     2   \n",
      "\n",
      "   education_within_1km  education_within_2km  education_within_5km  \n",
      "0                     0                     1                    55  \n",
      "1                     2                     7                    66  \n",
      "2                     2                     8                    75  \n",
      "3                    12                    39                   194  \n",
      "4                    13                    46                   203  \n"
     ]
    }
   ],
   "source": [
    "# Convert results to DataFrame\n",
    "education_df = pd.DataFrame(education_results)\n",
    "\n",
    "# Merge educational institute count info into the original station dataset\n",
    "station_df = station_df.merge(education_df, on=['name', 'year'], how='left')\n",
    "\n",
    "# Save updated dataset\n",
    "station_df.to_csv(\"stations_with_education_counts.csv\", index=False)\n",
    "\n",
    "# Display first few rows\n",
    "print(station_df.head())"
   ]
  },
  {
   "cell_type": "markdown",
   "id": "69a82c8f-f618-424d-9daf-c5ce8d3d43be",
   "metadata": {},
   "source": [
    "## Number of Hospitals within a radius of 0.5, 1, 2 & 5km"
   ]
  },
  {
   "cell_type": "code",
   "execution_count": 8,
   "id": "985e2ae5-e444-4ccb-baae-a2f78f0c83ac",
   "metadata": {},
   "outputs": [],
   "source": [
    "# Let's define the folder containing OSM files\n",
    "osm_folder = \"NY_osm_datasets\"\n",
    "\n",
    "# And, load the station data\n",
    "station_df = pd.read_csv(\"unique_station_year_new_york.csv\")\n",
    "\n",
    "# And, ensure the year column is treated as an integer\n",
    "station_df['year'] = station_df['year'].astype(int)"
   ]
  },
  {
   "cell_type": "code",
   "execution_count": 9,
   "id": "19fcf226-61de-4257-81dd-72de4c94a0e0",
   "metadata": {},
   "outputs": [],
   "source": [
    "# Map each year to its corresponding OSM file for New York datasets\n",
    "year_to_osm = {year: f\"new-york-{str(year)[-2:]}0101.osm.pbf\" for year in range(2015, 2025)}"
   ]
  },
  {
   "cell_type": "code",
   "execution_count": 10,
   "id": "4e0f084e-0dae-4fdd-8a66-01d9bfceff29",
   "metadata": {},
   "outputs": [],
   "source": [
    "# Define the search radii in meters\n",
    "radii = [500, 1000, 2000, 5000]  # 0.5km, 1km, 2km, 5km\n",
    "\n",
    "### Haversine function to calculate distances\n",
    "def haversine(lat1, lon1, lat2, lon2):\n",
    "    \"\"\"Calculate the great circle distance in meters between two lat/lon points.\"\"\"\n",
    "    R = 6371000  # Radius of Earth in meters\n",
    "    lat1, lon1, lat2, lon2 = map(radians, [lat1, lon1, lat2, lon2])\n",
    "\n",
    "    dlat = lat2 - lat1\n",
    "    dlon = lon2 - lon1\n",
    "    a = sin(dlat/2)**2 + cos(lat1) * cos(lat2) * sin(dlon/2)**2\n",
    "    c = 2 * asin(sqrt(a))\n",
    "    return R * c\n"
   ]
  },
  {
   "cell_type": "code",
   "execution_count": 11,
   "id": "c624a32c-84a6-42b6-96c4-2b43d72f21c7",
   "metadata": {},
   "outputs": [],
   "source": [
    "### Define a class to extract hospital-related data from OSM\n",
    "class HospitalHandler(osmium.SimpleHandler):\n",
    "    def __init__(self):\n",
    "        super().__init__()\n",
    "        self.hospitals = []\n",
    "\n",
    "    def node(self, n):\n",
    "        if ('amenity' in n.tags and n.tags['amenity'] in [\n",
    "            'hospital', 'clinic', 'doctor', 'medical_center'\n",
    "        ]) or ('healthcare' in n.tags and n.tags['healthcare'] in [\n",
    "            'hospital', 'clinic', 'doctor', 'health_center', 'pharmacy'\n",
    "        ]):\n",
    "            self.hospitals.append({\n",
    "                'lat': n.location.lat,\n",
    "                'lon': n.location.lon,\n",
    "                'type': n.tags.get('amenity', n.tags.get('healthcare', 'unknown'))  # Store the type of hospital\n",
    "            })\n",
    "\n",
    "def extract_hospitals(osm_file):\n",
    "    \"\"\"Extract hospital locations from a given OSM file.\"\"\"\n",
    "    handler = HospitalHandler()\n",
    "    \n",
    "    # Enable location lookup\n",
    "    handler.apply_file(osm_file, locations=True)\n",
    "\n",
    "    return pd.DataFrame(handler.hospitals)\n"
   ]
  },
  {
   "cell_type": "code",
   "execution_count": 12,
   "id": "2b69f06e-680b-45e0-a547-8c521a1370f8",
   "metadata": {},
   "outputs": [
    {
     "name": "stdout",
     "output_type": "stream",
     "text": [
      "Processing hospital data for year 2022 using NY_osm_datasets\\new-york-220101.osm.pbf...\n",
      "Processing hospital data for year 2023 using NY_osm_datasets\\new-york-230101.osm.pbf...\n",
      "Processing hospital data for year 2024 using NY_osm_datasets\\new-york-240101.osm.pbf...\n",
      "Processing hospital data for year 2020 using NY_osm_datasets\\new-york-200101.osm.pbf...\n",
      "Processing hospital data for year 2021 using NY_osm_datasets\\new-york-210101.osm.pbf...\n",
      "Processing hospital data for year 2015 using NY_osm_datasets\\new-york-150101.osm.pbf...\n",
      "Processing hospital data for year 2016 using NY_osm_datasets\\new-york-160101.osm.pbf...\n",
      "Processing hospital data for year 2017 using NY_osm_datasets\\new-york-170101.osm.pbf...\n",
      "Processing hospital data for year 2018 using NY_osm_datasets\\new-york-180101.osm.pbf...\n",
      "Processing hospital data for year 2019 using NY_osm_datasets\\new-york-190101.osm.pbf...\n"
     ]
    }
   ],
   "source": [
    "# List to store hospital count results\n",
    "hospital_results = []\n",
    "\n",
    "# Iterate over unique years\n",
    "for year in station_df['year'].unique():\n",
    "    osm_file_path = os.path.join(osm_folder, year_to_osm[year])\n",
    "    \n",
    "    if not os.path.exists(osm_file_path):\n",
    "        print(f\"Warning: OSM file for year {year} not found: {osm_file_path}\")\n",
    "        continue\n",
    "    \n",
    "    print(f\"Processing hospital data for year {year} using {osm_file_path}...\")\n",
    "\n",
    "    # Extract hospital locations\n",
    "    hospital_df = extract_hospitals(osm_file_path)\n",
    "\n",
    "    # Iterate over stations for this year\n",
    "    for index, station in station_df[station_df['year'] == year].iterrows():\n",
    "        lat_s, lon_s, station_name = station['latitude'], station['longitude'], station['name']\n",
    "\n",
    "        # Compute distances to all hospitals\n",
    "        distances = hospital_df.apply(lambda hosp: haversine(lat_s, lon_s, hosp['lat'], hosp['lon']), axis=1)\n",
    "\n",
    "        # Count hospitals within each radius\n",
    "        hospital_counts = {f'hospitals_within_{r//1000}km': (distances <= r).sum() for r in radii}\n",
    "\n",
    "        # Store results\n",
    "        hospital_results.append({\n",
    "            'name': station_name,\n",
    "            'year': year,\n",
    "            **hospital_counts\n",
    "        })\n"
   ]
  },
  {
   "cell_type": "code",
   "execution_count": 13,
   "id": "1f40da97-193f-4a7b-8a9f-e5444741b7bf",
   "metadata": {},
   "outputs": [
    {
     "name": "stdout",
     "output_type": "stream",
     "text": [
      "                   name   latitude  longitude  year  hospitals_within_0km  \\\n",
      "0  111th St at 50th Ave  40.745630  -73.85250  2022                     0   \n",
      "1  111th St at 50th Ave  40.745630  -73.85250  2023                     0   \n",
      "2  111th St at 50th Ave  40.745630  -73.85250  2024                     0   \n",
      "3   8th Ave at 50th St.  40.762348  -73.98612  2020                     4   \n",
      "4   8th Ave at 50th St.  40.762348  -73.98612  2021                     4   \n",
      "\n",
      "   hospitals_within_1km  hospitals_within_2km  hospitals_within_5km  \n",
      "0                     0                    26                   149  \n",
      "1                     2                    32                   178  \n",
      "2                     2                    35                   221  \n",
      "3                    24                    69                   247  \n",
      "4                    25                    83                   297  \n"
     ]
    }
   ],
   "source": [
    "# Convert results to DataFrame\n",
    "hospital_df = pd.DataFrame(hospital_results)\n",
    "\n",
    "# Merge hospital count info into the original station dataset\n",
    "station_df = station_df.merge(hospital_df, on=['name', 'year'], how='left')\n",
    "\n",
    "# Save updated dataset\n",
    "station_df.to_csv(\"stations_with_hospitals.csv\", index=False)\n",
    "\n",
    "# Display first few rows\n",
    "print(station_df.head())"
   ]
  },
  {
   "cell_type": "markdown",
   "id": "bead985a-50c1-4059-9821-b901b09259e3",
   "metadata": {},
   "source": [
    "## Distance to the City Centre"
   ]
  },
  {
   "cell_type": "code",
   "execution_count": 15,
   "id": "f1a33a8f-91d0-4039-9304-7a1b38bc75db",
   "metadata": {},
   "outputs": [],
   "source": [
    "# Let's load the cycling dataset\n",
    "df = pd.read_csv(\"daily_cycling_data_newyork_07042025.csv\")"
   ]
  },
  {
   "cell_type": "code",
   "execution_count": 16,
   "id": "fabd01ba-061c-4734-be10-f3da30de8677",
   "metadata": {},
   "outputs": [],
   "source": [
    "# Let's add the distance to city center variable to the dataset\n",
    "# Let's first define the coordinates for the city center - Midtown Manhattan\n",
    "city_center = (40.7549, -73.9840)\n",
    "\n",
    "# Compute distance (in km) to city center\n",
    "df['distance_to_center_km'] = df.apply(\n",
    "    lambda row: geodesic(city_center, (row['latitude'], row['longitude'])).km,\n",
    "    axis=1\n",
    ")"
   ]
  },
  {
   "cell_type": "code",
   "execution_count": 17,
   "id": "28cc750b-32f4-416d-aa01-209f65c242b7",
   "metadata": {},
   "outputs": [],
   "source": [
    "# And save the cycling dataset\n",
    "df.to_csv(\"daily_cycling_data_newyork_07042025.csv\", index=False)"
   ]
  },
  {
   "cell_type": "markdown",
   "id": "72536223-2088-44cd-8139-f0316f42cb81",
   "metadata": {},
   "source": [
    "## Merge all the Infrastructure Files"
   ]
  },
  {
   "cell_type": "code",
   "execution_count": 18,
   "id": "dbd56dbe-96fc-4f7c-b8ee-737241f63627",
   "metadata": {},
   "outputs": [],
   "source": [
    "# Let's load each of the files\n",
    "df_speed = pd.read_csv('stations_with_maxspeed_03042025.csv')\n",
    "df_lane_type = pd.read_csv('stations_with_bicycle_lane_type.csv')\n",
    "df_shops = pd.read_csv('stations_with_shops.csv')\n",
    "df_hotels = pd.read_csv('stations_with_hotels.csv')\n",
    "df_edu = pd.read_csv('stations_with_education_counts.csv')\n",
    "df_hospitals = pd.read_csv('stations_with_hospitals.csv')"
   ]
  },
  {
   "cell_type": "code",
   "execution_count": 19,
   "id": "77a42af3-4ccc-4b74-818a-b63a7bf3670e",
   "metadata": {},
   "outputs": [],
   "source": [
    "# Now, let's define common merge keys\n",
    "merge_keys = ['name', 'latitude', 'longitude', 'year']\n",
    "\n",
    "# And, merge all dataframes one by one on common keys\n",
    "df_merged = df_speed.merge(df_lane_type, on=merge_keys, how='outer') \\\n",
    "                    .merge(df_shops, on=merge_keys, how='outer') \\\n",
    "                    .merge(df_hotels, on=merge_keys, how='outer') \\\n",
    "                    .merge(df_edu, on=merge_keys, how='outer') \\\n",
    "                    .merge(df_hospitals, on=merge_keys, how='outer')\n",
    "\n",
    "# And, finally save to a new CSV file\n",
    "df_merged.to_csv('infrastructure_data_newyork.csv', index=False)"
   ]
  },
  {
   "cell_type": "code",
   "execution_count": 20,
   "id": "0140dfe0-c2f7-41b7-b959-f7cc2c5d46b6",
   "metadata": {},
   "outputs": [],
   "source": [
    "# Now, let's merge with the final bicycle dataset\n",
    "# Let's load the infrastructure data\n",
    "infra_df = pd.read_csv('infrastructure_data_newyork.csv')\n",
    "\n",
    "# Now, let's load the cycling data\n",
    "cycling_df = pd.read_csv('daily_cycling_data_newyork_07042025.csv')"
   ]
  },
  {
   "cell_type": "code",
   "execution_count": 21,
   "id": "6869a01c-dfe3-4a40-aeb3-6c54316ca0b7",
   "metadata": {},
   "outputs": [],
   "source": [
    "# before the merge process, let's add the year column to the bicycle data\n",
    "cycling_df['date'] = pd.to_datetime(cycling_df['date'])\n",
    "cycling_df['year'] = cycling_df['date'].dt.year"
   ]
  },
  {
   "cell_type": "code",
   "execution_count": 22,
   "id": "ab210385-8b8b-412d-839a-926e2338bd90",
   "metadata": {},
   "outputs": [
    {
     "data": {
      "text/html": [
       "<div>\n",
       "<style scoped>\n",
       "    .dataframe tbody tr th:only-of-type {\n",
       "        vertical-align: middle;\n",
       "    }\n",
       "\n",
       "    .dataframe tbody tr th {\n",
       "        vertical-align: top;\n",
       "    }\n",
       "\n",
       "    .dataframe thead th {\n",
       "        text-align: right;\n",
       "    }\n",
       "</style>\n",
       "<table border=\"1\" class=\"dataframe\">\n",
       "  <thead>\n",
       "    <tr style=\"text-align: right;\">\n",
       "      <th></th>\n",
       "      <th>name</th>\n",
       "      <th>date</th>\n",
       "      <th>latitude</th>\n",
       "      <th>longitude</th>\n",
       "      <th>counts</th>\n",
       "      <th>year</th>\n",
       "      <th>distance_to_center_km</th>\n",
       "    </tr>\n",
       "  </thead>\n",
       "  <tbody>\n",
       "    <tr>\n",
       "      <th>0</th>\n",
       "      <td>111th St at 50th Ave</td>\n",
       "      <td>2022-05-09</td>\n",
       "      <td>40.74563</td>\n",
       "      <td>-73.8525</td>\n",
       "      <td>120</td>\n",
       "      <td>2022</td>\n",
       "      <td>11.153039</td>\n",
       "    </tr>\n",
       "    <tr>\n",
       "      <th>1</th>\n",
       "      <td>111th St at 50th Ave</td>\n",
       "      <td>2022-05-10</td>\n",
       "      <td>40.74563</td>\n",
       "      <td>-73.8525</td>\n",
       "      <td>165</td>\n",
       "      <td>2022</td>\n",
       "      <td>11.153039</td>\n",
       "    </tr>\n",
       "    <tr>\n",
       "      <th>2</th>\n",
       "      <td>111th St at 50th Ave</td>\n",
       "      <td>2022-05-11</td>\n",
       "      <td>40.74563</td>\n",
       "      <td>-73.8525</td>\n",
       "      <td>197</td>\n",
       "      <td>2022</td>\n",
       "      <td>11.153039</td>\n",
       "    </tr>\n",
       "    <tr>\n",
       "      <th>3</th>\n",
       "      <td>111th St at 50th Ave</td>\n",
       "      <td>2022-05-12</td>\n",
       "      <td>40.74563</td>\n",
       "      <td>-73.8525</td>\n",
       "      <td>206</td>\n",
       "      <td>2022</td>\n",
       "      <td>11.153039</td>\n",
       "    </tr>\n",
       "    <tr>\n",
       "      <th>4</th>\n",
       "      <td>111th St at 50th Ave</td>\n",
       "      <td>2022-05-13</td>\n",
       "      <td>40.74563</td>\n",
       "      <td>-73.8525</td>\n",
       "      <td>178</td>\n",
       "      <td>2022</td>\n",
       "      <td>11.153039</td>\n",
       "    </tr>\n",
       "  </tbody>\n",
       "</table>\n",
       "</div>"
      ],
      "text/plain": [
       "                   name       date  latitude  longitude  counts  year  \\\n",
       "0  111th St at 50th Ave 2022-05-09  40.74563   -73.8525     120  2022   \n",
       "1  111th St at 50th Ave 2022-05-10  40.74563   -73.8525     165  2022   \n",
       "2  111th St at 50th Ave 2022-05-11  40.74563   -73.8525     197  2022   \n",
       "3  111th St at 50th Ave 2022-05-12  40.74563   -73.8525     206  2022   \n",
       "4  111th St at 50th Ave 2022-05-13  40.74563   -73.8525     178  2022   \n",
       "\n",
       "   distance_to_center_km  \n",
       "0              11.153039  \n",
       "1              11.153039  \n",
       "2              11.153039  \n",
       "3              11.153039  \n",
       "4              11.153039  "
      ]
     },
     "execution_count": 22,
     "metadata": {},
     "output_type": "execute_result"
    }
   ],
   "source": [
    "cycling_df.head()"
   ]
  },
  {
   "cell_type": "code",
   "execution_count": 23,
   "id": "2e7ba438-92b1-46e6-ae12-caed79a9aafd",
   "metadata": {},
   "outputs": [],
   "source": [
    "# And, merge on common keys\n",
    "merge_keys = ['name', 'latitude', 'longitude', 'year']\n",
    "merged_df = cycling_df.merge(infra_df, on=merge_keys, how='left')"
   ]
  },
  {
   "cell_type": "code",
   "execution_count": 24,
   "id": "da9537aa-8996-47a6-9234-dde4c6d3bc8e",
   "metadata": {},
   "outputs": [
    {
     "data": {
      "text/html": [
       "<div>\n",
       "<style scoped>\n",
       "    .dataframe tbody tr th:only-of-type {\n",
       "        vertical-align: middle;\n",
       "    }\n",
       "\n",
       "    .dataframe tbody tr th {\n",
       "        vertical-align: top;\n",
       "    }\n",
       "\n",
       "    .dataframe thead th {\n",
       "        text-align: right;\n",
       "    }\n",
       "</style>\n",
       "<table border=\"1\" class=\"dataframe\">\n",
       "  <thead>\n",
       "    <tr style=\"text-align: right;\">\n",
       "      <th></th>\n",
       "      <th>name</th>\n",
       "      <th>date</th>\n",
       "      <th>latitude</th>\n",
       "      <th>longitude</th>\n",
       "      <th>counts</th>\n",
       "      <th>year</th>\n",
       "      <th>distance_to_center_km</th>\n",
       "      <th>maxspeed_near_station</th>\n",
       "      <th>bicycle_lane_type</th>\n",
       "      <th>shops_within_0km</th>\n",
       "      <th>...</th>\n",
       "      <th>hotels_within_2km</th>\n",
       "      <th>hotels_within_5km</th>\n",
       "      <th>education_within_0km</th>\n",
       "      <th>education_within_1km</th>\n",
       "      <th>education_within_2km</th>\n",
       "      <th>education_within_5km</th>\n",
       "      <th>hospitals_within_0km</th>\n",
       "      <th>hospitals_within_1km</th>\n",
       "      <th>hospitals_within_2km</th>\n",
       "      <th>hospitals_within_5km</th>\n",
       "    </tr>\n",
       "  </thead>\n",
       "  <tbody>\n",
       "    <tr>\n",
       "      <th>0</th>\n",
       "      <td>111th St at 50th Ave</td>\n",
       "      <td>2022-05-09</td>\n",
       "      <td>40.74563</td>\n",
       "      <td>-73.8525</td>\n",
       "      <td>120</td>\n",
       "      <td>2022</td>\n",
       "      <td>11.153039</td>\n",
       "      <td>25.0</td>\n",
       "      <td>unknown</td>\n",
       "      <td>8</td>\n",
       "      <td>...</td>\n",
       "      <td>4</td>\n",
       "      <td>15</td>\n",
       "      <td>0</td>\n",
       "      <td>0</td>\n",
       "      <td>1</td>\n",
       "      <td>55</td>\n",
       "      <td>0</td>\n",
       "      <td>0</td>\n",
       "      <td>26</td>\n",
       "      <td>149</td>\n",
       "    </tr>\n",
       "    <tr>\n",
       "      <th>1</th>\n",
       "      <td>111th St at 50th Ave</td>\n",
       "      <td>2022-05-10</td>\n",
       "      <td>40.74563</td>\n",
       "      <td>-73.8525</td>\n",
       "      <td>165</td>\n",
       "      <td>2022</td>\n",
       "      <td>11.153039</td>\n",
       "      <td>25.0</td>\n",
       "      <td>unknown</td>\n",
       "      <td>8</td>\n",
       "      <td>...</td>\n",
       "      <td>4</td>\n",
       "      <td>15</td>\n",
       "      <td>0</td>\n",
       "      <td>0</td>\n",
       "      <td>1</td>\n",
       "      <td>55</td>\n",
       "      <td>0</td>\n",
       "      <td>0</td>\n",
       "      <td>26</td>\n",
       "      <td>149</td>\n",
       "    </tr>\n",
       "    <tr>\n",
       "      <th>2</th>\n",
       "      <td>111th St at 50th Ave</td>\n",
       "      <td>2022-05-11</td>\n",
       "      <td>40.74563</td>\n",
       "      <td>-73.8525</td>\n",
       "      <td>197</td>\n",
       "      <td>2022</td>\n",
       "      <td>11.153039</td>\n",
       "      <td>25.0</td>\n",
       "      <td>unknown</td>\n",
       "      <td>8</td>\n",
       "      <td>...</td>\n",
       "      <td>4</td>\n",
       "      <td>15</td>\n",
       "      <td>0</td>\n",
       "      <td>0</td>\n",
       "      <td>1</td>\n",
       "      <td>55</td>\n",
       "      <td>0</td>\n",
       "      <td>0</td>\n",
       "      <td>26</td>\n",
       "      <td>149</td>\n",
       "    </tr>\n",
       "    <tr>\n",
       "      <th>3</th>\n",
       "      <td>111th St at 50th Ave</td>\n",
       "      <td>2022-05-12</td>\n",
       "      <td>40.74563</td>\n",
       "      <td>-73.8525</td>\n",
       "      <td>206</td>\n",
       "      <td>2022</td>\n",
       "      <td>11.153039</td>\n",
       "      <td>25.0</td>\n",
       "      <td>unknown</td>\n",
       "      <td>8</td>\n",
       "      <td>...</td>\n",
       "      <td>4</td>\n",
       "      <td>15</td>\n",
       "      <td>0</td>\n",
       "      <td>0</td>\n",
       "      <td>1</td>\n",
       "      <td>55</td>\n",
       "      <td>0</td>\n",
       "      <td>0</td>\n",
       "      <td>26</td>\n",
       "      <td>149</td>\n",
       "    </tr>\n",
       "    <tr>\n",
       "      <th>4</th>\n",
       "      <td>111th St at 50th Ave</td>\n",
       "      <td>2022-05-13</td>\n",
       "      <td>40.74563</td>\n",
       "      <td>-73.8525</td>\n",
       "      <td>178</td>\n",
       "      <td>2022</td>\n",
       "      <td>11.153039</td>\n",
       "      <td>25.0</td>\n",
       "      <td>unknown</td>\n",
       "      <td>8</td>\n",
       "      <td>...</td>\n",
       "      <td>4</td>\n",
       "      <td>15</td>\n",
       "      <td>0</td>\n",
       "      <td>0</td>\n",
       "      <td>1</td>\n",
       "      <td>55</td>\n",
       "      <td>0</td>\n",
       "      <td>0</td>\n",
       "      <td>26</td>\n",
       "      <td>149</td>\n",
       "    </tr>\n",
       "  </tbody>\n",
       "</table>\n",
       "<p>5 rows × 25 columns</p>\n",
       "</div>"
      ],
      "text/plain": [
       "                   name       date  latitude  longitude  counts  year  \\\n",
       "0  111th St at 50th Ave 2022-05-09  40.74563   -73.8525     120  2022   \n",
       "1  111th St at 50th Ave 2022-05-10  40.74563   -73.8525     165  2022   \n",
       "2  111th St at 50th Ave 2022-05-11  40.74563   -73.8525     197  2022   \n",
       "3  111th St at 50th Ave 2022-05-12  40.74563   -73.8525     206  2022   \n",
       "4  111th St at 50th Ave 2022-05-13  40.74563   -73.8525     178  2022   \n",
       "\n",
       "   distance_to_center_km  maxspeed_near_station bicycle_lane_type  \\\n",
       "0              11.153039                   25.0           unknown   \n",
       "1              11.153039                   25.0           unknown   \n",
       "2              11.153039                   25.0           unknown   \n",
       "3              11.153039                   25.0           unknown   \n",
       "4              11.153039                   25.0           unknown   \n",
       "\n",
       "   shops_within_0km  ...  hotels_within_2km  hotels_within_5km  \\\n",
       "0                 8  ...                  4                 15   \n",
       "1                 8  ...                  4                 15   \n",
       "2                 8  ...                  4                 15   \n",
       "3                 8  ...                  4                 15   \n",
       "4                 8  ...                  4                 15   \n",
       "\n",
       "   education_within_0km  education_within_1km  education_within_2km  \\\n",
       "0                     0                     0                     1   \n",
       "1                     0                     0                     1   \n",
       "2                     0                     0                     1   \n",
       "3                     0                     0                     1   \n",
       "4                     0                     0                     1   \n",
       "\n",
       "   education_within_5km  hospitals_within_0km  hospitals_within_1km  \\\n",
       "0                    55                     0                     0   \n",
       "1                    55                     0                     0   \n",
       "2                    55                     0                     0   \n",
       "3                    55                     0                     0   \n",
       "4                    55                     0                     0   \n",
       "\n",
       "   hospitals_within_2km  hospitals_within_5km  \n",
       "0                    26                   149  \n",
       "1                    26                   149  \n",
       "2                    26                   149  \n",
       "3                    26                   149  \n",
       "4                    26                   149  \n",
       "\n",
       "[5 rows x 25 columns]"
      ]
     },
     "execution_count": 24,
     "metadata": {},
     "output_type": "execute_result"
    }
   ],
   "source": [
    "merged_df.head()"
   ]
  },
  {
   "cell_type": "code",
   "execution_count": 25,
   "id": "3908f42b-d332-4d35-8e79-b5638634a824",
   "metadata": {},
   "outputs": [],
   "source": [
    "# And, save the dataset with infra data\n",
    "merged_df.to_csv('cycle_infra_data_newyork_04042025.csv', index=False)"
   ]
  },
  {
   "cell_type": "code",
   "execution_count": 26,
   "id": "73f934f0-e260-4609-b213-63ef0d9f5e51",
   "metadata": {},
   "outputs": [
    {
     "name": "stdout",
     "output_type": "stream",
     "text": [
      "<class 'pandas.core.frame.DataFrame'>\n",
      "RangeIndex: 36461 entries, 0 to 36460\n",
      "Data columns (total 25 columns):\n",
      " #   Column                 Non-Null Count  Dtype         \n",
      "---  ------                 --------------  -----         \n",
      " 0   name                   36461 non-null  object        \n",
      " 1   date                   36461 non-null  datetime64[ns]\n",
      " 2   latitude               36461 non-null  float64       \n",
      " 3   longitude              36461 non-null  float64       \n",
      " 4   counts                 36461 non-null  int64         \n",
      " 5   year                   36461 non-null  int32         \n",
      " 6   distance_to_center_km  36461 non-null  float64       \n",
      " 7   maxspeed_near_station  36461 non-null  float64       \n",
      " 8   bicycle_lane_type      36461 non-null  object        \n",
      " 9   shops_within_0km       36461 non-null  int64         \n",
      " 10  shops_within_1km       36461 non-null  int64         \n",
      " 11  shops_within_2km       36461 non-null  int64         \n",
      " 12  shops_within_5km       36461 non-null  int64         \n",
      " 13  hotels_within_0km      36461 non-null  int64         \n",
      " 14  hotels_within_1km      36461 non-null  int64         \n",
      " 15  hotels_within_2km      36461 non-null  int64         \n",
      " 16  hotels_within_5km      36461 non-null  int64         \n",
      " 17  education_within_0km   36461 non-null  int64         \n",
      " 18  education_within_1km   36461 non-null  int64         \n",
      " 19  education_within_2km   36461 non-null  int64         \n",
      " 20  education_within_5km   36461 non-null  int64         \n",
      " 21  hospitals_within_0km   36461 non-null  int64         \n",
      " 22  hospitals_within_1km   36461 non-null  int64         \n",
      " 23  hospitals_within_2km   36461 non-null  int64         \n",
      " 24  hospitals_within_5km   36461 non-null  int64         \n",
      "dtypes: datetime64[ns](1), float64(4), int32(1), int64(17), object(2)\n",
      "memory usage: 6.8+ MB\n"
     ]
    }
   ],
   "source": [
    "merged_df.info()"
   ]
  },
  {
   "cell_type": "code",
   "execution_count": null,
   "id": "f2e9f2e4-251b-4e50-9cf9-b0d77a9a5be5",
   "metadata": {},
   "outputs": [],
   "source": []
  }
 ],
 "metadata": {
  "kernelspec": {
   "display_name": "Python 3 (ipykernel)",
   "language": "python",
   "name": "python3"
  },
  "language_info": {
   "codemirror_mode": {
    "name": "ipython",
    "version": 3
   },
   "file_extension": ".py",
   "mimetype": "text/x-python",
   "name": "python",
   "nbconvert_exporter": "python",
   "pygments_lexer": "ipython3",
   "version": "3.12.4"
  }
 },
 "nbformat": 4,
 "nbformat_minor": 5
}
