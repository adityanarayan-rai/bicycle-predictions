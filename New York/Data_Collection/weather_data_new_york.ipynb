{
 "cells": [
  {
   "cell_type": "code",
   "execution_count": 1,
   "id": "dee6bbde-7b42-4a61-8906-f91bf59cbd5b",
   "metadata": {},
   "outputs": [],
   "source": [
    "from meteostat import Point, Daily\n",
    "import pandas as pd\n",
    "from datetime import datetime\n",
    "import matplotlib.pyplot as plt"
   ]
  },
  {
   "cell_type": "code",
   "execution_count": 2,
   "id": "0b7fd055-02b8-4552-9c8b-1d7ac8f0b452",
   "metadata": {},
   "outputs": [
    {
     "name": "stderr",
     "output_type": "stream",
     "text": [
      "FutureWarning: Support for nested sequences for 'parse_dates' in pd.read_csv is deprecated. Combine the desired columns with pd.to_datetime after parsing instead.\n",
      "FutureWarning: Support for nested sequences for 'parse_dates' in pd.read_csv is deprecated. Combine the desired columns with pd.to_datetime after parsing instead.\n",
      "FutureWarning: Support for nested sequences for 'parse_dates' in pd.read_csv is deprecated. Combine the desired columns with pd.to_datetime after parsing instead.\n",
      "FutureWarning: Support for nested sequences for 'parse_dates' in pd.read_csv is deprecated. Combine the desired columns with pd.to_datetime after parsing instead.\n"
     ]
    }
   ],
   "source": [
    "# Let's define the location of the New York\n",
    "new_york = Point(40.712778, -74.006111)\n",
    "\n",
    "# Now, let's define the time range\n",
    "start_date = datetime.strptime('2015-01-01', '%Y-%m-%d')\n",
    "end_date = datetime.strptime('2024-12-31', '%Y-%m-%d')\n",
    "\n",
    "# Fetch daily weather data\n",
    "data = Daily(new_york, start_date, end_date)\n",
    "data = data.fetch()\n",
    "\n",
    "# Save specific columns to CSV\n",
    "selected_columns = [\n",
    "    'tavg',       # Average temperature\n",
    "    'tmin',       # Daily minimum temperature\n",
    "    'tmax',       # Daily maximum temperature\n",
    "    'prcp',       # Precipitation\n",
    "    'snow',       # Maximum snow depth\n",
    "    'wspd',       # Average wind speed\n",
    "    'pres',       # Average sea-level pressure\n",
    "    'wdir'        # Wind direction\n",
    "]"
   ]
  },
  {
   "cell_type": "code",
   "execution_count": 3,
   "id": "ca9079fd-6cfb-46ec-9d21-df2aad2f1da7",
   "metadata": {},
   "outputs": [
    {
     "name": "stdout",
     "output_type": "stream",
     "text": [
      "Data saved to 'weather_data_new_york.csv'\n"
     ]
    }
   ],
   "source": [
    "data = data[selected_columns]\n",
    "\n",
    "data.to_csv('weather_data_new_york.csv')\n",
    "print(\"Data saved to 'weather_data_new_york.csv'\")"
   ]
  },
  {
   "cell_type": "code",
   "execution_count": 4,
   "id": "6937e3da-f62f-4352-8da2-f100cb2df418",
   "metadata": {},
   "outputs": [
    {
     "name": "stdout",
     "output_type": "stream",
     "text": [
      "            tavg  tmin  tmax  prcp  snow  wspd    pres   wdir\n",
      "time                                                         \n",
      "2015-01-01  -1.7  -6.6   3.9   0.0   0.0  20.2  1019.0  232.0\n",
      "2015-01-02   2.6  -0.5   6.7   0.0   0.0  16.9  1023.3  252.0\n",
      "2015-01-03   0.9  -3.2   3.9  20.1   0.0  11.2  1031.0   37.0\n",
      "2015-01-04   6.6   3.9  13.3   6.9   0.0  16.6  1010.5  248.0\n",
      "2015-01-05   5.4  -6.6   8.9   0.0   0.0  31.0  1019.8  286.0\n",
      "            tavg  tmin  tmax  prcp  snow  wspd    pres   wdir\n",
      "time                                                         \n",
      "2024-12-27   2.5  -8.0   6.7   0.0   0.0   4.1  1030.9  309.0\n",
      "2024-12-28   5.4   2.8   7.9   3.4   0.0   4.8  1025.1  312.0\n",
      "2024-12-29   9.6   4.7  15.4   3.0   0.0   7.3  1017.4  271.0\n",
      "2024-12-30  11.8   8.9  14.4  11.0   0.0  17.9  1005.8  249.0\n",
      "2024-12-31   8.6   5.6  11.7   9.6   0.0  13.2  1010.1  216.0\n"
     ]
    }
   ],
   "source": [
    "print(data.head())\n",
    "\n",
    "print(data.tail())"
   ]
  },
  {
   "cell_type": "code",
   "execution_count": 5,
   "id": "1b5787a6-471e-4b51-87ae-78931be4376d",
   "metadata": {},
   "outputs": [
    {
     "name": "stdout",
     "output_type": "stream",
     "text": [
      "Missing Values:\n",
      ": <bound method DataFrame.sum of              tavg   tmin   tmax   prcp   snow   wspd   pres   wdir\n",
      "time                                                              \n",
      "2015-01-01  False  False  False  False  False  False  False  False\n",
      "2015-01-02  False  False  False  False  False  False  False  False\n",
      "2015-01-03  False  False  False  False  False  False  False  False\n",
      "2015-01-04  False  False  False  False  False  False  False  False\n",
      "2015-01-05  False  False  False  False  False  False  False  False\n",
      "...           ...    ...    ...    ...    ...    ...    ...    ...\n",
      "2024-12-27  False  False  False  False  False  False  False  False\n",
      "2024-12-28  False  False  False  False  False  False  False  False\n",
      "2024-12-29  False  False  False  False  False  False  False  False\n",
      "2024-12-30  False  False  False  False  False  False  False  False\n",
      "2024-12-31  False  False  False  False  False  False  False  False\n",
      "\n",
      "[3653 rows x 8 columns]>\n"
     ]
    }
   ],
   "source": [
    "missing_values = data.isnull().sum\n",
    "print(\"Missing Values:\\n:\", missing_values)"
   ]
  },
  {
   "cell_type": "code",
   "execution_count": 6,
   "id": "09be5e25-75a6-4fd3-baad-4869816d32b1",
   "metadata": {},
   "outputs": [
    {
     "data": {
      "text/html": [
       "<div>\n",
       "<style scoped>\n",
       "    .dataframe tbody tr th:only-of-type {\n",
       "        vertical-align: middle;\n",
       "    }\n",
       "\n",
       "    .dataframe tbody tr th {\n",
       "        vertical-align: top;\n",
       "    }\n",
       "\n",
       "    .dataframe thead th {\n",
       "        text-align: right;\n",
       "    }\n",
       "</style>\n",
       "<table border=\"1\" class=\"dataframe\">\n",
       "  <thead>\n",
       "    <tr style=\"text-align: right;\">\n",
       "      <th></th>\n",
       "      <th>tavg</th>\n",
       "      <th>tmin</th>\n",
       "      <th>tmax</th>\n",
       "      <th>prcp</th>\n",
       "      <th>snow</th>\n",
       "      <th>wspd</th>\n",
       "      <th>pres</th>\n",
       "      <th>wdir</th>\n",
       "    </tr>\n",
       "  </thead>\n",
       "  <tbody>\n",
       "    <tr>\n",
       "      <th>count</th>\n",
       "      <td>3653.000000</td>\n",
       "      <td>3653.000000</td>\n",
       "      <td>3653.000000</td>\n",
       "      <td>3653.000000</td>\n",
       "      <td>3652.000000</td>\n",
       "      <td>3653.000000</td>\n",
       "      <td>3646.000000</td>\n",
       "      <td>3427.000000</td>\n",
       "    </tr>\n",
       "    <tr>\n",
       "      <th>mean</th>\n",
       "      <td>14.029428</td>\n",
       "      <td>10.395538</td>\n",
       "      <td>18.186039</td>\n",
       "      <td>3.393841</td>\n",
       "      <td>5.818729</td>\n",
       "      <td>11.851027</td>\n",
       "      <td>1018.498958</td>\n",
       "      <td>202.720163</td>\n",
       "    </tr>\n",
       "    <tr>\n",
       "      <th>std</th>\n",
       "      <td>9.263199</td>\n",
       "      <td>9.204797</td>\n",
       "      <td>9.802898</td>\n",
       "      <td>9.498735</td>\n",
       "      <td>33.368587</td>\n",
       "      <td>5.015655</td>\n",
       "      <td>8.052311</td>\n",
       "      <td>105.897477</td>\n",
       "    </tr>\n",
       "    <tr>\n",
       "      <th>min</th>\n",
       "      <td>-13.200000</td>\n",
       "      <td>-17.700000</td>\n",
       "      <td>-7.700000</td>\n",
       "      <td>0.000000</td>\n",
       "      <td>0.000000</td>\n",
       "      <td>1.800000</td>\n",
       "      <td>989.700000</td>\n",
       "      <td>0.000000</td>\n",
       "    </tr>\n",
       "    <tr>\n",
       "      <th>25%</th>\n",
       "      <td>6.400000</td>\n",
       "      <td>3.300000</td>\n",
       "      <td>10.000000</td>\n",
       "      <td>0.000000</td>\n",
       "      <td>0.000000</td>\n",
       "      <td>8.200000</td>\n",
       "      <td>1013.000000</td>\n",
       "      <td>92.500000</td>\n",
       "    </tr>\n",
       "    <tr>\n",
       "      <th>50%</th>\n",
       "      <td>14.000000</td>\n",
       "      <td>10.100000</td>\n",
       "      <td>18.300000</td>\n",
       "      <td>0.000000</td>\n",
       "      <td>0.000000</td>\n",
       "      <td>10.700000</td>\n",
       "      <td>1017.900000</td>\n",
       "      <td>246.000000</td>\n",
       "    </tr>\n",
       "    <tr>\n",
       "      <th>75%</th>\n",
       "      <td>22.600000</td>\n",
       "      <td>18.900000</td>\n",
       "      <td>27.000000</td>\n",
       "      <td>2.000000</td>\n",
       "      <td>0.000000</td>\n",
       "      <td>14.200000</td>\n",
       "      <td>1024.500000</td>\n",
       "      <td>283.500000</td>\n",
       "    </tr>\n",
       "    <tr>\n",
       "      <th>max</th>\n",
       "      <td>31.700000</td>\n",
       "      <td>28.000000</td>\n",
       "      <td>36.700000</td>\n",
       "      <td>280.400000</td>\n",
       "      <td>510.000000</td>\n",
       "      <td>39.100000</td>\n",
       "      <td>1046.900000</td>\n",
       "      <td>359.000000</td>\n",
       "    </tr>\n",
       "  </tbody>\n",
       "</table>\n",
       "</div>"
      ],
      "text/plain": [
       "              tavg         tmin         tmax         prcp         snow  \\\n",
       "count  3653.000000  3653.000000  3653.000000  3653.000000  3652.000000   \n",
       "mean     14.029428    10.395538    18.186039     3.393841     5.818729   \n",
       "std       9.263199     9.204797     9.802898     9.498735    33.368587   \n",
       "min     -13.200000   -17.700000    -7.700000     0.000000     0.000000   \n",
       "25%       6.400000     3.300000    10.000000     0.000000     0.000000   \n",
       "50%      14.000000    10.100000    18.300000     0.000000     0.000000   \n",
       "75%      22.600000    18.900000    27.000000     2.000000     0.000000   \n",
       "max      31.700000    28.000000    36.700000   280.400000   510.000000   \n",
       "\n",
       "              wspd         pres         wdir  \n",
       "count  3653.000000  3646.000000  3427.000000  \n",
       "mean     11.851027  1018.498958   202.720163  \n",
       "std       5.015655     8.052311   105.897477  \n",
       "min       1.800000   989.700000     0.000000  \n",
       "25%       8.200000  1013.000000    92.500000  \n",
       "50%      10.700000  1017.900000   246.000000  \n",
       "75%      14.200000  1024.500000   283.500000  \n",
       "max      39.100000  1046.900000   359.000000  "
      ]
     },
     "execution_count": 6,
     "metadata": {},
     "output_type": "execute_result"
    }
   ],
   "source": [
    "data.describe()"
   ]
  },
  {
   "cell_type": "code",
   "execution_count": 7,
   "id": "04894a7b-2d3d-4617-b3a7-6457faf06803",
   "metadata": {},
   "outputs": [
    {
     "name": "stdout",
     "output_type": "stream",
     "text": [
      "<class 'pandas.core.frame.DataFrame'>\n",
      "DatetimeIndex: 3653 entries, 2015-01-01 to 2024-12-31\n",
      "Freq: D\n",
      "Data columns (total 8 columns):\n",
      " #   Column  Non-Null Count  Dtype  \n",
      "---  ------  --------------  -----  \n",
      " 0   tavg    3653 non-null   float64\n",
      " 1   tmin    3653 non-null   float64\n",
      " 2   tmax    3653 non-null   float64\n",
      " 3   prcp    3653 non-null   float64\n",
      " 4   snow    3652 non-null   float64\n",
      " 5   wspd    3653 non-null   float64\n",
      " 6   pres    3646 non-null   float64\n",
      " 7   wdir    3427 non-null   float64\n",
      "dtypes: float64(8)\n",
      "memory usage: 256.9 KB\n"
     ]
    }
   ],
   "source": [
    "data.info()"
   ]
  },
  {
   "cell_type": "code",
   "execution_count": 8,
   "id": "e065864f-a159-48e0-b46c-f800fa05707b",
   "metadata": {},
   "outputs": [],
   "source": [
    "data = data.copy()\n",
    "data['week'] = data.index.isocalendar().week\n",
    "data['year'] = data.index.isocalendar().year"
   ]
  },
  {
   "cell_type": "code",
   "execution_count": 10,
   "id": "6eee0e5d-4581-4ae4-b891-634a441507f2",
   "metadata": {},
   "outputs": [],
   "source": [
    "# Define the columns to fill\n",
    "cols_to_fill = ['snow', 'pres', 'wdir']\n",
    "\n",
    "# Fill missing values with weekly median\n",
    "for col in cols_to_fill:\n",
    "    # Compute the weekly medians\n",
    "    weekly_median = data.groupby(['year', 'week'])[col].transform('median')\n",
    "    \n",
    "    # Fill missing values\n",
    "    data[col] = data[col].fillna(weekly_median)\n"
   ]
  },
  {
   "cell_type": "code",
   "execution_count": 12,
   "id": "673668ae-079f-4d47-b39a-81244100246b",
   "metadata": {},
   "outputs": [],
   "source": [
    "#drop the helper columns\n",
    "data.drop(columns=['week', 'year'], inplace=True)"
   ]
  },
  {
   "cell_type": "code",
   "execution_count": 13,
   "id": "4ab16bd1-cfcf-4924-af9b-c3b2fa2686ed",
   "metadata": {},
   "outputs": [
    {
     "name": "stdout",
     "output_type": "stream",
     "text": [
      "<class 'pandas.core.frame.DataFrame'>\n",
      "DatetimeIndex: 3653 entries, 2015-01-01 to 2024-12-31\n",
      "Freq: D\n",
      "Data columns (total 8 columns):\n",
      " #   Column  Non-Null Count  Dtype  \n",
      "---  ------  --------------  -----  \n",
      " 0   tavg    3653 non-null   float64\n",
      " 1   tmin    3653 non-null   float64\n",
      " 2   tmax    3653 non-null   float64\n",
      " 3   prcp    3653 non-null   float64\n",
      " 4   snow    3653 non-null   float64\n",
      " 5   wspd    3653 non-null   float64\n",
      " 6   pres    3653 non-null   float64\n",
      " 7   wdir    3646 non-null   float64\n",
      "dtypes: float64(8)\n",
      "memory usage: 256.9 KB\n"
     ]
    }
   ],
   "source": [
    "data.info()"
   ]
  },
  {
   "cell_type": "code",
   "execution_count": 15,
   "id": "654c4daa-14a4-46db-918a-8f8d2937c949",
   "metadata": {},
   "outputs": [],
   "source": [
    "data['year'] = data.index.isocalendar().year\n",
    "data['month'] = data.index.month\n",
    "monthly_median = data.groupby(['year', 'month'])['wdir'].transform('median')\n",
    "data['wdir'] = data['wdir'].fillna(monthly_median)\n",
    "data.drop(columns=['month', 'year'], inplace=True)"
   ]
  },
  {
   "cell_type": "code",
   "execution_count": 16,
   "id": "c17dabd3-f985-433d-bef9-ab923e6e3b6f",
   "metadata": {},
   "outputs": [
    {
     "name": "stdout",
     "output_type": "stream",
     "text": [
      "<class 'pandas.core.frame.DataFrame'>\n",
      "DatetimeIndex: 3653 entries, 2015-01-01 to 2024-12-31\n",
      "Freq: D\n",
      "Data columns (total 8 columns):\n",
      " #   Column  Non-Null Count  Dtype  \n",
      "---  ------  --------------  -----  \n",
      " 0   tavg    3653 non-null   float64\n",
      " 1   tmin    3653 non-null   float64\n",
      " 2   tmax    3653 non-null   float64\n",
      " 3   prcp    3653 non-null   float64\n",
      " 4   snow    3653 non-null   float64\n",
      " 5   wspd    3653 non-null   float64\n",
      " 6   pres    3653 non-null   float64\n",
      " 7   wdir    3653 non-null   float64\n",
      "dtypes: float64(8)\n",
      "memory usage: 256.9 KB\n"
     ]
    }
   ],
   "source": [
    "data.info()"
   ]
  },
  {
   "cell_type": "code",
   "execution_count": 17,
   "id": "56a09a7e-5439-42c9-a8c1-86e1eb009cdd",
   "metadata": {},
   "outputs": [],
   "source": [
    "data.to_csv('weather_data_new_york.csv')"
   ]
  },
  {
   "cell_type": "code",
   "execution_count": null,
   "id": "d5ba7974-b3bf-4d02-82db-196fd640d6cd",
   "metadata": {},
   "outputs": [],
   "source": []
  }
 ],
 "metadata": {
  "kernelspec": {
   "display_name": "Python 3 (ipykernel)",
   "language": "python",
   "name": "python3"
  },
  "language_info": {
   "codemirror_mode": {
    "name": "ipython",
    "version": 3
   },
   "file_extension": ".py",
   "mimetype": "text/x-python",
   "name": "python",
   "nbconvert_exporter": "python",
   "pygments_lexer": "ipython3",
   "version": "3.12.4"
  }
 },
 "nbformat": 4,
 "nbformat_minor": 5
}
