{
 "cells": [
  {
   "cell_type": "code",
   "execution_count": 1,
   "id": "76a1306d-ac6e-4c52-996f-9365443e9897",
   "metadata": {},
   "outputs": [],
   "source": [
    "import holidays\n",
    "import pandas as pd"
   ]
  },
  {
   "cell_type": "code",
   "execution_count": 2,
   "id": "5a706edd-1321-434b-b67d-009590811e80",
   "metadata": {},
   "outputs": [],
   "source": [
    "# Let's first define the date range for public holidays\n",
    "start_date = '2015-01-01'\n",
    "end_date = '2024-12-31'\n",
    "\n",
    "# Let's generate a date range for all days in the specified period\n",
    "date_range = pd.date_range(start=start_date, end=end_date)"
   ]
  },
  {
   "cell_type": "code",
   "execution_count": 3,
   "id": "734e1d01-494f-4268-b664-452619e14121",
   "metadata": {},
   "outputs": [],
   "source": [
    "# Now, let's initialize the US holidays object for New York\n",
    "ny_holidays = holidays.UnitedStates(years=range(2012, 2024), state=\"NY\")\n",
    "\n",
    "# And, create a DataFrame with the date range\n",
    "holiday_df = pd.DataFrame({\"Date\": date_range})"
   ]
  },
  {
   "cell_type": "code",
   "execution_count": 4,
   "id": "97923290-f5d9-491f-a300-5b6a83dd8034",
   "metadata": {},
   "outputs": [],
   "source": [
    "# Now, let's check if each date is a holiday in New York and get the holiday name\n",
    "holiday_df[\"Holiday Name\"] = holiday_df[\"Date\"].apply(lambda x: ny_holidays.get(x.date()))\n",
    "holiday_df[\"public_holiday\"] = holiday_df[\"Holiday Name\"].apply(lambda x: 1 if x else 0)"
   ]
  },
  {
   "cell_type": "code",
   "execution_count": 5,
   "id": "0d2d8bed-af08-42fa-82ce-98b297a0015c",
   "metadata": {},
   "outputs": [
    {
     "data": {
      "text/html": [
       "<div>\n",
       "<style scoped>\n",
       "    .dataframe tbody tr th:only-of-type {\n",
       "        vertical-align: middle;\n",
       "    }\n",
       "\n",
       "    .dataframe tbody tr th {\n",
       "        vertical-align: top;\n",
       "    }\n",
       "\n",
       "    .dataframe thead th {\n",
       "        text-align: right;\n",
       "    }\n",
       "</style>\n",
       "<table border=\"1\" class=\"dataframe\">\n",
       "  <thead>\n",
       "    <tr style=\"text-align: right;\">\n",
       "      <th></th>\n",
       "      <th>Date</th>\n",
       "      <th>Holiday Name</th>\n",
       "      <th>public_holiday</th>\n",
       "    </tr>\n",
       "  </thead>\n",
       "  <tbody>\n",
       "    <tr>\n",
       "      <th>0</th>\n",
       "      <td>2015-01-01</td>\n",
       "      <td>New Year's Day</td>\n",
       "      <td>1</td>\n",
       "    </tr>\n",
       "    <tr>\n",
       "      <th>1</th>\n",
       "      <td>2015-01-02</td>\n",
       "      <td>None</td>\n",
       "      <td>0</td>\n",
       "    </tr>\n",
       "    <tr>\n",
       "      <th>2</th>\n",
       "      <td>2015-01-03</td>\n",
       "      <td>None</td>\n",
       "      <td>0</td>\n",
       "    </tr>\n",
       "    <tr>\n",
       "      <th>3</th>\n",
       "      <td>2015-01-04</td>\n",
       "      <td>None</td>\n",
       "      <td>0</td>\n",
       "    </tr>\n",
       "    <tr>\n",
       "      <th>4</th>\n",
       "      <td>2015-01-05</td>\n",
       "      <td>None</td>\n",
       "      <td>0</td>\n",
       "    </tr>\n",
       "  </tbody>\n",
       "</table>\n",
       "</div>"
      ],
      "text/plain": [
       "        Date    Holiday Name  public_holiday\n",
       "0 2015-01-01  New Year's Day               1\n",
       "1 2015-01-02            None               0\n",
       "2 2015-01-03            None               0\n",
       "3 2015-01-04            None               0\n",
       "4 2015-01-05            None               0"
      ]
     },
     "execution_count": 5,
     "metadata": {},
     "output_type": "execute_result"
    }
   ],
   "source": [
    "holiday_df.head()"
   ]
  },
  {
   "cell_type": "code",
   "execution_count": 6,
   "id": "8c693ede-7c3f-4559-bcd0-7e748885cf5c",
   "metadata": {},
   "outputs": [
    {
     "data": {
      "text/html": [
       "<div>\n",
       "<style scoped>\n",
       "    .dataframe tbody tr th:only-of-type {\n",
       "        vertical-align: middle;\n",
       "    }\n",
       "\n",
       "    .dataframe tbody tr th {\n",
       "        vertical-align: top;\n",
       "    }\n",
       "\n",
       "    .dataframe thead th {\n",
       "        text-align: right;\n",
       "    }\n",
       "</style>\n",
       "<table border=\"1\" class=\"dataframe\">\n",
       "  <thead>\n",
       "    <tr style=\"text-align: right;\">\n",
       "      <th></th>\n",
       "      <th>Date</th>\n",
       "      <th>Holiday Name</th>\n",
       "      <th>public_holiday</th>\n",
       "    </tr>\n",
       "  </thead>\n",
       "  <tbody>\n",
       "    <tr>\n",
       "      <th>3648</th>\n",
       "      <td>2024-12-27</td>\n",
       "      <td>None</td>\n",
       "      <td>0</td>\n",
       "    </tr>\n",
       "    <tr>\n",
       "      <th>3649</th>\n",
       "      <td>2024-12-28</td>\n",
       "      <td>None</td>\n",
       "      <td>0</td>\n",
       "    </tr>\n",
       "    <tr>\n",
       "      <th>3650</th>\n",
       "      <td>2024-12-29</td>\n",
       "      <td>None</td>\n",
       "      <td>0</td>\n",
       "    </tr>\n",
       "    <tr>\n",
       "      <th>3651</th>\n",
       "      <td>2024-12-30</td>\n",
       "      <td>None</td>\n",
       "      <td>0</td>\n",
       "    </tr>\n",
       "    <tr>\n",
       "      <th>3652</th>\n",
       "      <td>2024-12-31</td>\n",
       "      <td>None</td>\n",
       "      <td>0</td>\n",
       "    </tr>\n",
       "  </tbody>\n",
       "</table>\n",
       "</div>"
      ],
      "text/plain": [
       "           Date Holiday Name  public_holiday\n",
       "3648 2024-12-27         None               0\n",
       "3649 2024-12-28         None               0\n",
       "3650 2024-12-29         None               0\n",
       "3651 2024-12-30         None               0\n",
       "3652 2024-12-31         None               0"
      ]
     },
     "execution_count": 6,
     "metadata": {},
     "output_type": "execute_result"
    }
   ],
   "source": [
    "holiday_df.tail()"
   ]
  },
  {
   "cell_type": "code",
   "execution_count": 7,
   "id": "803f6385-101f-4c82-8083-977da874b6e5",
   "metadata": {},
   "outputs": [
    {
     "name": "stdout",
     "output_type": "stream",
     "text": [
      "<class 'pandas.core.frame.DataFrame'>\n",
      "RangeIndex: 3653 entries, 0 to 3652\n",
      "Data columns (total 3 columns):\n",
      " #   Column          Non-Null Count  Dtype         \n",
      "---  ------          --------------  -----         \n",
      " 0   Date            3653 non-null   datetime64[ns]\n",
      " 1   Holiday Name    149 non-null    object        \n",
      " 2   public_holiday  3653 non-null   int64         \n",
      "dtypes: datetime64[ns](1), int64(1), object(1)\n",
      "memory usage: 85.7+ KB\n"
     ]
    }
   ],
   "source": [
    "holiday_df.info()"
   ]
  },
  {
   "cell_type": "code",
   "execution_count": 8,
   "id": "aacf90ac-dae4-44d7-99de-80c10bb554ec",
   "metadata": {},
   "outputs": [
    {
     "name": "stdout",
     "output_type": "stream",
     "text": [
      "\n",
      "Unique holidays in the dataset:\n",
      "[\"New Year's Day\" 'Martin Luther King Jr. Day' \"Lincoln's Birthday\"\n",
      " 'Susan B. Anthony Day' \"Washington's Birthday\" 'Memorial Day'\n",
      " 'Independence Day (observed)' 'Independence Day' 'Labor Day'\n",
      " 'Columbus Day' 'Election Day' 'Veterans Day' 'Thanksgiving'\n",
      " 'Christmas Day' \"Susan B. Anthony Day; Washington's Birthday\"\n",
      " 'Christmas Day (observed)' \"New Year's Day (observed)\"\n",
      " \"Lincoln's Birthday (observed)\" 'Veterans Day (observed)'\n",
      " 'Juneteenth National Independence Day (observed)'\n",
      " 'Juneteenth National Independence Day']\n"
     ]
    }
   ],
   "source": [
    "unique_holidays = holiday_df[\"Holiday Name\"].dropna().unique()\n",
    "print(\"\\nUnique holidays in the dataset:\")\n",
    "print(unique_holidays)"
   ]
  },
  {
   "cell_type": "code",
   "execution_count": 9,
   "id": "d2189f34-a871-44c2-9342-e676a319929c",
   "metadata": {},
   "outputs": [
    {
     "name": "stdout",
     "output_type": "stream",
     "text": [
      "\n",
      "Total number of public holidays: 149\n"
     ]
    }
   ],
   "source": [
    "total_public_holidays = holiday_df[\"public_holiday\"].sum()\n",
    "print(f\"\\nTotal number of public holidays: {total_public_holidays}\")"
   ]
  },
  {
   "cell_type": "code",
   "execution_count": 10,
   "id": "d92b1d70-4942-4843-8ebc-ecf2f0ded71a",
   "metadata": {},
   "outputs": [
    {
     "name": "stdout",
     "output_type": "stream",
     "text": [
      "\n",
      "Number of public holidays by year:\n",
      "Year\n",
      "2015    14\n",
      "2016    13\n",
      "2017    16\n",
      "2018    14\n",
      "2019    13\n",
      "2020    14\n",
      "2021    17\n",
      "2022    17\n",
      "2023    17\n",
      "2024    14\n",
      "Name: public_holiday, dtype: int64\n"
     ]
    }
   ],
   "source": [
    "holiday_df[\"Year\"] = holiday_df[\"Date\"].dt.year\n",
    "yearly_holiday_counts = holiday_df.groupby(\"Year\")[\"public_holiday\"].sum()\n",
    "print(\"\\nNumber of public holidays by year:\")\n",
    "print(yearly_holiday_counts)"
   ]
  },
  {
   "cell_type": "code",
   "execution_count": 11,
   "id": "d75db5be-cb79-4823-8aab-2886585a9807",
   "metadata": {},
   "outputs": [
    {
     "name": "stdout",
     "output_type": "stream",
     "text": [
      "The dataset has been saved as 'public_holidays_ny.csv'.\n"
     ]
    }
   ],
   "source": [
    "# Save the dataset to a CSV file\n",
    "output_file = \"public_holidays_ny.csv\"\n",
    "holiday_df.to_csv(output_file, index=False)\n",
    "print(f\"The dataset has been saved as '{output_file}'.\")"
   ]
  },
  {
   "cell_type": "code",
   "execution_count": null,
   "id": "3ceae4fc-a08b-4953-a017-3785ce8acd97",
   "metadata": {},
   "outputs": [],
   "source": []
  }
 ],
 "metadata": {
  "kernelspec": {
   "display_name": "Python 3 (ipykernel)",
   "language": "python",
   "name": "python3"
  },
  "language_info": {
   "codemirror_mode": {
    "name": "ipython",
    "version": 3
   },
   "file_extension": ".py",
   "mimetype": "text/x-python",
   "name": "python",
   "nbconvert_exporter": "python",
   "pygments_lexer": "ipython3",
   "version": "3.12.4"
  }
 },
 "nbformat": 4,
 "nbformat_minor": 5
}
